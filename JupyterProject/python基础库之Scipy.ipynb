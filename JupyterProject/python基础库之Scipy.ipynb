{
 "cells": [
  {
   "metadata": {},
   "cell_type": "markdown",
   "source": "# Scipy介绍",
   "id": "50339a169e485499"
  },
  {
   "metadata": {},
   "cell_type": "markdown",
   "source": [
    "SciPy是在NumPy库的基础上增加了众多的数学、科学以及工程计算中常用函数的库。SciPy库依赖于NumPy，提供了便捷且快速的 维数组操作。SciPy库与NumPy数组一起工作，提供了许多友好和高效的处理方法，它包括了统计、优化、线性代数模块、傅里叶变换、信号、图像处理和常微分方程的求解等，功能十分强大\n",
    "\n",
    "如果想了解更多，可以点击[这里](https://www.runoob.com/scipy/scipy-tutorial.html)"
   ],
   "id": "f58fda4524695cc3"
  },
  {
   "metadata": {},
   "cell_type": "markdown",
   "source": [
    "SciPy被组织成覆盖不同科学计算领域的模块，具体见表2.7。\n",
    "<center>表2.7  SciPy模块功能表</center>\n",
    "\n",
    "|模块\t|功能\t|模块\t|功能|\n",
    "|---|---|---|---|\n",
    "|scipy.cluster\t|聚类分析等\t|scipy.odr\t|正交距离回归|\n",
    "|scipy.constants\t|物理和数学常数\t|scipy.optimize|\t优化|\n",
    "|scipy.fftpack\t|傅里叶变换\t|scipy.signal\t|信号处理|\n",
    "|scipy.integrate\t|积分\t|scipy.sparse\t|稀疏矩阵|\n",
    "|scipy.interpolate\t|插值\t|scipy.spatial\t|空间数据结构和算法|\n",
    "|scipy.io\t|数据输入和输出\t|scipy.special\t|特殊函数|\n",
    "|scipy.linalg\t|线性代数\t|scipy.stats\t|统计|\n",
    "|scipy.ndimage\t|n维图像|\n"
   ],
   "id": "222f31468ca0351b"
  },
  {
   "metadata": {},
   "cell_type": "markdown",
   "source": [
    "## 1 求解方程组\n",
    "`scipy.optimize`模块的`fsolve`和`root`不仅可以求非线性方程的解，而且也可以求非线性方程组的解。它们的调用格式为：\n",
    "\n",
    "        from scipy.optimize import fsolve\n",
    "        from scipy.optimize import root\n"
   ],
   "id": "d4e693d0ab5f14ad"
  },
  {
   "metadata": {},
   "cell_type": "markdown",
   "source": [
    "### 1.1 例题一\n",
    "求方程\n",
    "$$\n",
    "x^{980}-5.01x^{979}+7.398x^{978}-3.388x^{977}-x^3+5.01x^{2}-7.398x+3.388=0\n",
    "$$\n",
    "在给定初值1.5附近的一个实根。\n"
   ],
   "id": "672a7da05b0f80e4"
  },
  {
   "cell_type": "code",
   "id": "initial_id",
   "metadata": {
    "collapsed": true,
    "ExecuteTime": {
     "end_time": "2025-03-02T04:00:24.992835Z",
     "start_time": "2025-03-02T04:00:24.979778Z"
    }
   },
   "source": [
    "from scipy.optimize import fsolve, root\n",
    "fx = lambda x:     x**980-5.01*x**979+7.398*x**978\\\n",
    "    -3.388*x**977-x**3+5.01*x**2-7.398*x+3.388\n",
    "x1 = fsolve(fx, 1.5, maxfev=4000)  #函数调用4000次\n",
    "x2 = root(fx, 1.5)\n",
    "print(x1,'\\n','-------------'); print(x2)"
   ],
   "outputs": [
    {
     "name": "stdout",
     "output_type": "stream",
     "text": [
      "[1.21] \n",
      " -------------\n",
      " message: The solution converged.\n",
      " success: True\n",
      "  status: 1\n",
      "     fun: [-1.235e+69]\n",
      "       x: [ 1.210e+00]\n",
      "  method: hybr\n",
      "    nfev: 321\n",
      "    fjac: [[-1.000e+00]]\n",
      "       r: [ 2.542e+80]\n",
      "     qtf: [ 2.002e+72]\n"
     ]
    }
   ],
   "execution_count": 6
  },
  {
   "metadata": {},
   "cell_type": "markdown",
   "source": "### 1.2 例题二",
   "id": "d587389381a44cf6"
  },
  {
   "metadata": {},
   "cell_type": "markdown",
   "source": [
    "求方程组\n",
    "$$\n",
    "\\begin{cases}\n",
    "x_1^2 + x_2^2 & = & 1\\\\\n",
    "x_1 & = & x_2\n",
    "\\end{cases}\n",
    "$$\n",
    "的一组数值解。\n"
   ],
   "id": "f0bb2913adfc5c96"
  },
  {
   "metadata": {
    "ExecuteTime": {
     "end_time": "2025-03-02T04:00:25.018425Z",
     "start_time": "2025-03-02T04:00:25.013075Z"
    }
   },
   "cell_type": "code",
   "source": [
    "from scipy.optimize import fsolve, root\n",
    "fx = lambda x: [x[0]**2+x[1]**2-1, x[0]-x[1]]\n",
    "s1 = fsolve(fx, [1, 1])\n",
    "s2 = root(fx, [1, 1])\n",
    "print(s1,'\\n','--------------'); print(s2)"
   ],
   "id": "7e7df770970dc094",
   "outputs": [
    {
     "name": "stdout",
     "output_type": "stream",
     "text": [
      "[0.70710678 0.70710678] \n",
      " --------------\n",
      " message: The solution converged.\n",
      " success: True\n",
      "  status: 1\n",
      "     fun: [ 4.441e-16  0.000e+00]\n",
      "       x: [ 7.071e-01  7.071e-01]\n",
      "  method: hybr\n",
      "    nfev: 11\n",
      "    fjac: [[-8.165e-01 -5.773e-01]\n",
      "           [ 5.773e-01 -8.165e-01]]\n",
      "       r: [-1.732e+00 -5.774e-01  1.633e+00]\n",
      "     qtf: [-3.646e-10  2.578e-10]\n"
     ]
    }
   ],
   "execution_count": 7
  },
  {
   "metadata": {},
   "cell_type": "markdown",
   "source": "## 2 求积分",
   "id": "259afdf9911fc9e9"
  },
  {
   "metadata": {},
   "cell_type": "markdown",
   "source": [
    "`scipy.integrate`模块提供了多种积分模式。积分主要分为以下两类：一种是对给定函数的数值积分，见表2.8。另一种是对给定离散点的数值积分，函数有`trapz`。\n",
    "<center>表2.8  scipy.integrate模块的数值积分函数</center>\n",
    "\n",
    "| 函数\t                                          | 说明       |\n",
    "|:---------------------------------------------|:---------|\n",
    "| quad(func, a, b, args)\t                      | 计算一重积分   |\n",
    "| dblquad(func, a, b, gfun, hfun, args)\t       | 计算二重数值积分 |\n",
    "| tplquad(func, a, b, gfun, hfun, qfun, rfun)\t | 计算三重数值积分 |\n",
    "| nquad(func, ranges, args)\t                   | 计算多变量积分  |"
   ],
   "id": "f8330936933ba996"
  },
  {
   "metadata": {},
   "cell_type": "markdown",
   "source": [
    "### 2.1 例题\n",
    "分别计算$a = 1, b = 1$；$a = 2, b = 10时，I(a, b) = \\int_0^1 {(ax^2 + bx)} \\,{\\rm d}x$的值"
   ],
   "id": "b2d3d79d86f630e9"
  },
  {
   "metadata": {
    "ExecuteTime": {
     "end_time": "2025-03-02T04:00:25.045951Z",
     "start_time": "2025-03-02T04:00:25.041805Z"
    }
   },
   "cell_type": "code",
   "source": [
    "from scipy.integrate import quad\n",
    "fun46 = lambda x, a, b : a * x ** 2 + b * x\n",
    "I1 = quad(fun46, 0, 1, args=(2, 1))\n",
    "I2 = quad(fun46, 0, 1, args=(2, 10))\n",
    "print(I1); print(I2)"
   ],
   "id": "dc6f6f0c136b11f2",
   "outputs": [
    {
     "name": "stdout",
     "output_type": "stream",
     "text": [
      "(1.1666666666666665, 1.2952601953960159e-14)\n",
      "(5.666666666666667, 6.291263806209221e-14)\n"
     ]
    }
   ],
   "execution_count": 8
  },
  {
   "metadata": {},
   "cell_type": "markdown",
   "source": "## 3 最小二乘解",
   "id": "c7d8b546dba3ba24"
  },
  {
   "metadata": {},
   "cell_type": "markdown",
   "source": [
    "对于非线性方程组\n",
    "$$\n",
    "\\begin{cases}\n",
    "f_1(x) & = & 0\\\\\n",
    "f_2(x) & = & 0\\\\\n",
    "...\\\\\n",
    "f_n(x) & = & 0\\\\\n",
    "\\end{cases}\n",
    "\\tag{3.1}\n",
    "$$\n",
    "其中$x$为$m$维向量，一般地，$n>m$，且方程组（3.1）是矛盾方程组，有时需要求方程组（3.1）的最小二乘解，即求下面多元函数\n",
    "$$\n",
    "\\delta(x) = \\sum_{i = 1}^n {f_i^2(x)}\n",
    "\\tag{3.2}\n",
    "$$\n",
    "的最小值\n",
    "·scipy.optimize·模块求非线性方程组最小二乘解的函数调用格式为\n",
    "\n",
    "        from scipy.optimize import least_squares\n",
    "        least_squares(fun,x0)\n",
    "其中`fun`是定义向量函数\n",
    "$$\n",
    "[f_1(x) \\; f(_2x) \\; f_3(x) \\; ... \\; f_n(x)]^T\n",
    "$$\n",
    "的匿名函数的返回值，$x_0$为 的初始值。\n"
   ],
   "id": "fac3ce70243603d4"
  },
  {
   "metadata": {},
   "cell_type": "markdown",
   "source": [
    "### 3.1 例题1\n",
    "已知4个观测站的位置坐标 ，每个观测站都探测到距未知信号的距离 ，已知数据见表2.9，试定位未知信号的位置坐标 。\n",
    "\n",
    "表2.9  观测站的位置坐标及探测到的距离\n",
    "\n",
    "| \t1\t  | 2\t   |3\t|4|\n",
    "|------|------|---|---|\n",
    "| 245\t | 164\t | 192\t | 232 |\n",
    "|442\t|480\t|281\t|300|\n",
    "|126.2204|\t120.7509\t|90.1854|\t101.4021|\n"
   ],
   "id": "843c6543aac1bfd2"
  },
  {
   "metadata": {},
   "cell_type": "markdown",
   "source": [
    "未知信号的位置坐标 满足非线性方程组\n",
    "$$\n",
    "\\begin{cases}\n",
    "\\sqrt{(x_1 - x)^2 + (y_1 - y)^2} - d_1 & = & 0\\\\\n",
    "\\sqrt{(x_2 - x)^2 + (y_2 - y)^2} - d_2 & = & 0\\\\\n",
    "\\sqrt{(x_3 - x)^2 + (y_3 - y)^2} - d_3 & = & 0\\\\\n",
    "\\sqrt{(x_4 - x)^2 + (y_4 - y)^2} - d_4 & = & 0\\\\\n",
    "\\end{cases}\n",
    "\\tag{3.1}\n",
    "$$\n",
    "显然方程组（3.1）是一个矛盾方程组，必须求方程组（3.1）的最小二乘解。\n",
    "\n",
    "可以把问题转化为求如下多元函数\n",
    "\n",
    "$$\n",
    "\\delta(x, y) = \\sum_{i = 1}^4 {\\sqrt{(x_i - x)^2 + (y_i - y)^2} - d_i}\n",
    "\\tag{3.2}\n",
    "$$"
   ],
   "id": "5df7b3542cb8fdd6"
  },
  {
   "metadata": {
    "ExecuteTime": {
     "end_time": "2025-03-02T04:00:25.082613Z",
     "start_time": "2025-03-02T04:00:25.072748Z"
    }
   },
   "cell_type": "code",
   "source": [
    "from scipy.optimize import least_squares\n",
    "import numpy as np\n",
    "a=np.loadtxt('data2_47.txt')\n",
    "x0=a[0]; y0=a[1]; d=a[2]\n",
    "fx=lambda x: np.sqrt((x0-x[0])**2+(y0-x[1])**2)-d\n",
    "s=least_squares(fx, np.random.rand(2))\n",
    "print(s, '\\n', '------------', '\\n', s.x)"
   ],
   "id": "7fdcd9e86177e767",
   "outputs": [
    {
     "name": "stdout",
     "output_type": "stream",
     "text": [
      "     message: Both `ftol` and `xtol` termination conditions are satisfied.\n",
      "     success: True\n",
      "      status: 4\n",
      "         fun: [-3.433e-01  1.360e-01 -4.966e-01  5.928e-01]\n",
      "           x: [ 1.495e+02  3.600e+02]\n",
      "        cost: 0.367150558463682\n",
      "         jac: [[-7.586e-01 -6.516e-01]\n",
      "               [-1.199e-01 -9.928e-01]\n",
      "               [-4.738e-01  8.807e-01]\n",
      "               [-8.088e-01  5.881e-01]]\n",
      "        grad: [-1.115e-08  3.907e-09]\n",
      "  optimality: 1.115069314661099e-08\n",
      " active_mask: [ 0.000e+00  0.000e+00]\n",
      "        nfev: 15\n",
      "        njev: 15 \n",
      " ------------ \n",
      " [149.50894334 359.9847955 ]\n"
     ]
    }
   ],
   "execution_count": 9
  },
  {
   "metadata": {},
   "cell_type": "markdown",
   "source": "## 4 最大模特征值及对应的特征向量\n",
   "id": "3d71e4f392d2910c"
  },
  {
   "metadata": {},
   "cell_type": "markdown",
   "source": [
    "求下列矩阵的最大模特征值及对应的特征向量：\n",
    "$$\n",
    "A = \\begin{bmatrix}\n",
    "1 & 2 & 3\\\\\n",
    "2 & 1 & 3\\\\\n",
    "3 & 3 & 6\\\\\n",
    "\\end{bmatrix}\n",
    "$$"
   ],
   "id": "431bd300cc29d067"
  },
  {
   "metadata": {
    "ExecuteTime": {
     "end_time": "2025-03-02T04:00:25.103816Z",
     "start_time": "2025-03-02T04:00:25.096832Z"
    }
   },
   "cell_type": "code",
   "source": [
    "from scipy.sparse.linalg import eigs\n",
    "import numpy as np\n",
    "a = np.array([[1, 2, 3], [2, 1, 3], [3, 3, 6]], dtype=float)  #必须加float,否则出错\n",
    "b, c = np.linalg.eig(a)\n",
    "d, e = eigs(a, 1)\n",
    "print(b, c)\n",
    "print('最大模特征值为：', d)\n",
    "print('对应的特征向量为：\\n', e)"
   ],
   "id": "efe07b11db8724f7",
   "outputs": [
    {
     "name": "stdout",
     "output_type": "stream",
     "text": [
      "[ 9.00000000e+00 -1.00000000e+00  2.80739441e-18] [[-4.08248290e-01 -7.07106781e-01 -5.77350269e-01]\n",
      " [-4.08248290e-01  7.07106781e-01 -5.77350269e-01]\n",
      " [-8.16496581e-01  4.65265489e-17  5.77350269e-01]]\n",
      "最大模特征值为： [9.+0.j]\n",
      "对应的特征向量为：\n",
      " [[0.40824829+0.j]\n",
      " [0.40824829+0.j]\n",
      " [0.81649658+0.j]]\n"
     ]
    }
   ],
   "execution_count": 10
  }
 ],
 "metadata": {
  "kernelspec": {
   "display_name": "Python 3",
   "language": "python",
   "name": "python3"
  },
  "language_info": {
   "codemirror_mode": {
    "name": "ipython",
    "version": 2
   },
   "file_extension": ".py",
   "mimetype": "text/x-python",
   "name": "python",
   "nbconvert_exporter": "python",
   "pygments_lexer": "ipython2",
   "version": "2.7.6"
  }
 },
 "nbformat": 4,
 "nbformat_minor": 5
}
