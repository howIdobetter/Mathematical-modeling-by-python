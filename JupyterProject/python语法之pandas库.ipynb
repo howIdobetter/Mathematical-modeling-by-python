{
 "cells": [
  {
   "metadata": {},
   "cell_type": "markdown",
   "source": [
    "# python语法之Pandas库\n",
    "\n",
    "Pandas库是在NumPy库基础上开发的一种数据分析工具。\n",
    "\n",
    "如果想要进一步学习，可以参考[这个](https://www.runoob.com/pandas/pandas-intro.html)\n"
   ],
   "id": "a8f29b0a56b6b985"
  },
  {
   "metadata": {},
   "cell_type": "markdown",
   "source": [
    "## 1 Pandas库基本操作\n",
    "\n",
    "Pandas主要提供了3种数据结构：\n",
    "\n",
    "-\tSeries：带标签的一维数组。\n",
    "-\tDataFrame：带标签且大小可变的二维表格结构。\n",
    "-\tPanel：带标签且大小可变的三维数组。\n",
    "\n",
    "这里我们主要介绍pandas的DataFrame数据结构。"
   ],
   "id": "65c666c7d0c60c37"
  },
  {
   "metadata": {},
   "cell_type": "markdown",
   "source": "### 1.1 生成二维数组\n",
   "id": "94d7ffe84a93c253"
  },
  {
   "cell_type": "code",
   "id": "initial_id",
   "metadata": {
    "collapsed": true,
    "ExecuteTime": {
     "end_time": "2025-03-02T04:04:09.502131Z",
     "start_time": "2025-03-02T04:04:09.494210Z"
    }
   },
   "source": [
    "import pandas as pd\n",
    "import numpy as np\n",
    "dates=pd.date_range(start='20191101',end='20191124',freq='D') #功能：生成一个日期序列，从 2019年11月1日 到 2019年11月24日。\n",
    "a1=pd.DataFrame(np.random.randn(24,4), index=dates, columns=list('ABCD'))\n",
    "a2=pd.DataFrame(np.random.rand(24,4))\n",
    "print(a1); print(a2)"
   ],
   "outputs": [
    {
     "name": "stdout",
     "output_type": "stream",
     "text": [
      "                   A         B         C         D\n",
      "2019-11-01 -1.072281  1.445046 -0.324338 -0.044491\n",
      "2019-11-02  1.047063  0.330124  1.223018 -0.923062\n",
      "2019-11-03  0.788505 -0.807098 -0.587505 -1.192994\n",
      "2019-11-04  1.817763  0.687267  0.350036 -1.022037\n",
      "2019-11-05  1.054668  1.299141  0.062940  0.221341\n",
      "2019-11-06  0.241825 -0.203342 -0.960979 -0.357667\n",
      "2019-11-07  0.142060  0.426356  0.026173 -1.226323\n",
      "2019-11-08 -1.227430  0.901533 -0.966665 -0.501913\n",
      "2019-11-09 -2.042292  0.311931  0.086942 -1.012062\n",
      "2019-11-10  0.520879 -1.769547  0.784099  1.267777\n",
      "2019-11-11  0.547394 -0.661616  0.608697 -0.482361\n",
      "2019-11-12  0.908498 -0.637471  2.072069  0.021176\n",
      "2019-11-13 -2.887066  1.700914 -1.166677 -0.750039\n",
      "2019-11-14 -0.873420 -1.349514  1.292943  0.160206\n",
      "2019-11-15 -0.109678 -0.956185 -0.458263  0.468198\n",
      "2019-11-16  0.370924 -0.281364  1.643715  0.743617\n",
      "2019-11-17  0.716822  1.174719  0.228944 -1.142368\n",
      "2019-11-18  0.018088  0.546803  1.066295  1.985747\n",
      "2019-11-19 -0.042471 -0.641976 -0.373539 -0.809572\n",
      "2019-11-20 -0.322215  0.344052  2.468812  1.655119\n",
      "2019-11-21  1.088982  0.110191 -0.348176 -0.956850\n",
      "2019-11-22 -0.561573  0.013525  0.864943 -2.044237\n",
      "2019-11-23  1.250659 -0.816556  1.001228  0.853450\n",
      "2019-11-24 -0.459916 -1.717338 -2.540945 -0.054096\n",
      "           0         1         2         3\n",
      "0   0.495596  0.009069  0.298639  0.096607\n",
      "1   0.604324  0.106735  0.672706  0.549138\n",
      "2   0.464738  0.557008  0.069257  0.798908\n",
      "3   0.718889  0.117425  0.105229  0.949916\n",
      "4   0.874579  0.966856  0.448296  0.186001\n",
      "5   0.615000  0.381212  0.238412  0.654463\n",
      "6   0.955347  0.041814  0.267838  0.689764\n",
      "7   0.045537  0.187857  0.735497  0.840154\n",
      "8   0.748610  0.224022  0.647323  0.502015\n",
      "9   0.171554  0.437691  0.860002  0.631834\n",
      "10  0.942674  0.189294  0.192819  0.270736\n",
      "11  0.488739  0.888127  0.835916  0.915008\n",
      "12  0.951056  0.668052  0.101218  0.002412\n",
      "13  0.454638  0.675976  0.341900  0.414652\n",
      "14  0.858243  0.375497  0.538192  0.424664\n",
      "15  0.093368  0.567184  0.647452  0.463593\n",
      "16  0.719861  0.260678  0.002834  0.305938\n",
      "17  0.680953  0.581648  0.858391  0.753861\n",
      "18  0.225877  0.963715  0.422963  0.149552\n",
      "19  0.742753  0.386449  0.745438  0.247271\n",
      "20  0.325892  0.650539  0.184845  0.892437\n",
      "21  0.587579  0.075245  0.163208  0.187868\n",
      "22  0.363003  0.563785  0.070579  0.715936\n",
      "23  0.075525  0.056256  0.518845  0.455662\n"
     ]
    }
   ],
   "execution_count": 3
  },
  {
   "metadata": {},
   "cell_type": "markdown",
   "source": "DataFrame还可以视为若干个个Series的组合",
   "id": "d29e377a90eab81f"
  },
  {
   "metadata": {
    "ExecuteTime": {
     "end_time": "2025-03-02T04:04:09.516364Z",
     "start_time": "2025-03-02T04:04:09.510163Z"
    }
   },
   "cell_type": "code",
   "source": [
    "series_apple = pd.Series([1, 3, 7, 4])\n",
    "series_banana = pd.Series([2, 6, 3, 5])\n",
    "df = pd.DataFrame({'Apples' : series_apple, 'Banana' : series_banana})\n",
    "print(df)"
   ],
   "id": "7051bb8a7def14e8",
   "outputs": [
    {
     "name": "stdout",
     "output_type": "stream",
     "text": [
      "   Apples  Banana\n",
      "0       1       2\n",
      "1       3       6\n",
      "2       7       3\n",
      "3       4       5\n"
     ]
    }
   ],
   "execution_count": 4
  },
  {
   "metadata": {},
   "cell_type": "markdown",
   "source": [
    "### 1.2 文件读写\n",
    "\n",
    "在处理实际数据时，经常需要从不同类型的文件中读取数据，这里简单介绍使用pandas直接从Excel和CSV文件中读取数据以及把DataFrame对象中的数据保存至Excel和CSV文件中的方法"
   ],
   "id": "d7c6f4a369705594"
  },
  {
   "metadata": {},
   "cell_type": "markdown",
   "source": "课本提供的代码落后了，原因是：pandas 3.0 版本兼容性提示，表示从 pandas 3.0 开始，to_excel() 方法的所有参数（除了 excel_writer）必须通过 关键字参数（如 sheet_name=\"Sheet1\"）显式指定，不再允许直接使用位置参数。",
   "id": "196290cd178c8bb0"
  },
  {
   "metadata": {
    "ExecuteTime": {
     "end_time": "2025-03-02T04:04:09.766464Z",
     "start_time": "2025-03-02T04:04:09.557741Z"
    }
   },
   "cell_type": "code",
   "source": [
    "import pandas as pd\n",
    "import numpy as np\n",
    "\n",
    "dates = pd.date_range(start='20191101', end='20191124', freq='D')\n",
    "a1 = pd.DataFrame(np.random.randn(24,4), index=dates, columns=list('ABCD'))\n",
    "a2 = pd.DataFrame(np.random.randn(24,4))\n",
    "\n",
    "a1.to_excel('data2_38_1.xlsx')\n",
    "a2.to_csv('data2_38_2.csv')\n",
    "\n",
    "with pd.ExcelWriter('data2_38_3.xlsx') as f:\n",
    "    a1.to_excel(excel_writer=f, sheet_name=\"Sheet1\")  # 显式命名参数\n",
    "    a2.to_excel(excel_writer=f, sheet_name=\"Sheet2\")"
   ],
   "id": "22b44d7f3def7cb1",
   "outputs": [],
   "execution_count": 5
  },
  {
   "metadata": {},
   "cell_type": "markdown",
   "source": "如果写入数据时，不包含行索引，Python程序如下：\n",
   "id": "64ffb570a67e870"
  },
  {
   "metadata": {
    "ExecuteTime": {
     "end_time": "2025-03-02T04:04:09.820770Z",
     "start_time": "2025-03-02T04:04:09.777492Z"
    }
   },
   "cell_type": "code",
   "source": [
    "import openpyxl\n",
    "import xlrd\n",
    "import pandas as pd\n",
    "import numpy as np\n",
    "dates=pd.date_range(start='20191101',  end='20191124',  freq='D')\n",
    "a1=pd.DataFrame(np.random.randn(24,4), index=dates, columns=list('ABCD'))\n",
    "a2=pd.DataFrame(np.random.randn(24,4))\n",
    "a1.to_excel('data2_38_4.xlsx', index=False)  #不包括行索引\n",
    "a2.to_csv('data2_38_5.csv', index=False)   #不包括行索引\n",
    "with pd.ExcelWriter('data2_38_6.xlsx') as f: #创建文件对象\n",
    "    a1.to_excel(excel_writer = f,sheet_name = \"Sheet1\")  #把a1写入Excel文件\n",
    "    a2.to_excel(excel_writer = f,sheet_name = \"Sheet2\")  #把a2写入另一个表单中\n",
    "f.save()"
   ],
   "id": "adf07ef2ae0629e1",
   "outputs": [
    {
     "ename": "ModuleNotFoundError",
     "evalue": "No module named 'xlrd'",
     "output_type": "error",
     "traceback": [
      "\u001B[31m---------------------------------------------------------------------------\u001B[39m",
      "\u001B[31mModuleNotFoundError\u001B[39m                       Traceback (most recent call last)",
      "\u001B[36mCell\u001B[39m\u001B[36m \u001B[39m\u001B[32mIn[6]\u001B[39m\u001B[32m, line 2\u001B[39m\n\u001B[32m      1\u001B[39m \u001B[38;5;28;01mimport\u001B[39;00m\u001B[38;5;250m \u001B[39m\u001B[34;01mopenpyxl\u001B[39;00m\n\u001B[32m----> \u001B[39m\u001B[32m2\u001B[39m \u001B[38;5;28;01mimport\u001B[39;00m\u001B[38;5;250m \u001B[39m\u001B[34;01mxlrd\u001B[39;00m\n\u001B[32m      3\u001B[39m \u001B[38;5;28;01mimport\u001B[39;00m\u001B[38;5;250m \u001B[39m\u001B[34;01mpandas\u001B[39;00m\u001B[38;5;250m \u001B[39m\u001B[38;5;28;01mas\u001B[39;00m\u001B[38;5;250m \u001B[39m\u001B[34;01mpd\u001B[39;00m\n\u001B[32m      4\u001B[39m \u001B[38;5;28;01mimport\u001B[39;00m\u001B[38;5;250m \u001B[39m\u001B[34;01mnumpy\u001B[39;00m\u001B[38;5;250m \u001B[39m\u001B[38;5;28;01mas\u001B[39;00m\u001B[38;5;250m \u001B[39m\u001B[34;01mnp\u001B[39;00m\n",
      "\u001B[31mModuleNotFoundError\u001B[39m: No module named 'xlrd'"
     ]
    }
   ],
   "execution_count": 6
  },
  {
   "metadata": {},
   "cell_type": "markdown",
   "source": "从文件中读入数据示例",
   "id": "201a3a102cea9520"
  },
  {
   "metadata": {
    "ExecuteTime": {
     "end_time": "2025-03-02T04:04:09.822797300Z",
     "start_time": "2025-03-01T03:27:20.305048Z"
    }
   },
   "cell_type": "code",
   "source": [
    "import pandas as pd\n",
    "a=pd.read_csv(\"data2_38_2.csv\", usecols=range(1,5))\n",
    "b=pd.read_excel(\"data2_38_3.xlsx\", \"Sheet2\", usecols=range(1,5))\n",
    "print(a); print(b)"
   ],
   "id": "2dc4005d46d073c2",
   "outputs": [
    {
     "name": "stdout",
     "output_type": "stream",
     "text": [
      "           0         1         2         3\n",
      "0  -0.736180 -0.402673 -0.056493  2.104780\n",
      "1   0.864135  1.793465 -0.205152 -0.134117\n",
      "2  -0.995517  0.535867 -0.343643 -0.202998\n",
      "3  -2.551800 -1.045085 -0.478905  1.878571\n",
      "4   0.141702 -0.005578  1.171675  1.546905\n",
      "5  -0.482135  1.076879 -0.955621 -0.559546\n",
      "6   0.550010 -2.874536  0.047323  0.558814\n",
      "7   1.184629 -0.603139 -0.744881  0.076931\n",
      "8   1.116749 -1.016542 -1.687747  0.297579\n",
      "9  -0.930319  1.436951  0.466982  0.346554\n",
      "10  0.117524  1.057130 -0.475182 -0.738245\n",
      "11 -0.828855  2.469944  0.949564 -0.735178\n",
      "12 -0.918166 -0.267182  0.628246 -0.277799\n",
      "13 -0.246414  0.566422  0.376012 -1.558382\n",
      "14 -0.604107 -0.287911 -0.228982  0.732421\n",
      "15 -0.828766 -0.951987 -1.280068 -0.556601\n",
      "16 -0.298756 -0.002682 -0.666376  0.504368\n",
      "17 -0.999225 -1.292458 -1.075077  0.299412\n",
      "18 -1.514353  1.671948  0.866999  0.693077\n",
      "19  1.092400  2.220157 -1.872545  0.053736\n",
      "20 -0.652761 -0.648334  1.111811  0.348712\n",
      "21  2.502838 -0.618573 -0.360601 -1.020147\n",
      "22 -0.968158  0.323677  0.738921 -0.582888\n",
      "23  0.047364 -0.219147 -1.925695 -0.729687\n",
      "           0         1         2         3\n",
      "0   0.597379 -0.359838  0.166316  1.767889\n",
      "1  -0.353809 -1.489119  0.291468 -0.456163\n",
      "2  -0.115353  0.505766  1.268246 -0.171776\n",
      "3   0.887043 -0.674670  1.732797  0.123021\n",
      "4   1.227191 -0.474932  1.093296  1.171743\n",
      "5   0.121051  0.205617  0.560484 -0.268938\n",
      "6  -0.067734 -1.025533  0.011007 -0.783414\n",
      "7   0.020310  1.371444  0.613598 -0.844864\n",
      "8  -0.369218 -1.938501  1.361383  1.093810\n",
      "9  -0.461127 -0.871937 -0.025184  0.163660\n",
      "10 -0.880349  1.992723 -0.139562  0.337324\n",
      "11  0.520250  1.902284  0.151708  0.033316\n",
      "12  0.623095 -0.848721 -0.260646 -1.454834\n",
      "13 -0.984716 -0.430104  2.528673  0.548930\n",
      "14  1.384198  0.493219 -0.237645  0.478593\n",
      "15 -0.853664 -1.406294 -0.591927  0.808305\n",
      "16  0.309524  0.984002  0.012285 -1.886528\n",
      "17  1.402946 -1.439714 -1.335807 -0.558179\n",
      "18 -1.622228  0.546030 -0.912515  1.605870\n",
      "19  0.110169  0.555853  0.462947 -1.200228\n",
      "20 -0.121052 -1.620062 -0.110063 -1.848993\n",
      "21 -1.309278 -0.153889  1.564172 -2.447161\n",
      "22 -1.148234  1.560616 -0.034322  0.480629\n",
      "23 -0.509057  2.293823  0.898197 -0.006235\n"
     ]
    }
   ],
   "execution_count": 4
  },
  {
   "metadata": {},
   "cell_type": "markdown",
   "source": "## 2 数据的一些预处理",
   "id": "6edaad05426de17e"
  },
  {
   "metadata": {},
   "cell_type": "markdown",
   "source": [
    "### 2.1 拆分合并\n",
    "\n",
    "通过切片操作可以实现数据拆分，可用来计算特定范围内数据的分布情况，连接则是相反的操作，可以把多个DataFrame对象合并为一个DataFrame对象。\n",
    "在进行数据处理和分析时，经常需要按照某一列对原始数据进行分组，而该列数值相同的行中其他列进行求和、求平均等操作，这可以通过groupby()方法、sum()方法和mean()方法等来实现。\n",
    "\n",
    "课本上的错误"
   ],
   "id": "2903849b39a27f20"
  },
  {
   "metadata": {
    "ExecuteTime": {
     "end_time": "2025-03-02T04:04:09.822797300Z",
     "start_time": "2025-03-01T03:37:43.939618Z"
    }
   },
   "cell_type": "code",
   "source": [
    "import pandas as pd\n",
    "import numpy as np\n",
    "d=pd.DataFrame(np.random.randint(1,6,(10,4)), columns=list(\"ABCD\"))\n",
    "d1=d[:4]  #获取前4行数据\n",
    "d2=d[4:]  #获取第5行以后的数据\n",
    "dd=pd.concat([d1,d2])   #数据行合并\n",
    "s1=d.groupby('A').mean()      #数据分组求均值\n",
    "s2=d.groupby('A').apply(sum)  #数据分组求和"
   ],
   "id": "6ee4780525864f88",
   "outputs": [
    {
     "name": "stderr",
     "output_type": "stream",
     "text": [
      "C:\\Users\\20791\\AppData\\Local\\Temp\\ipykernel_12160\\2784843833.py:8: FutureWarning: The provided callable <built-in function sum> is currently using np.sum. In a future version of pandas, the provided callable will be used directly. To keep current behavior pass the string np.sum instead.\n",
      "  s2=d.groupby('A').apply(sum)  #数据分组求和\n",
      "C:\\Users\\20791\\miniconda3\\Lib\\site-packages\\numpy\\_core\\fromnumeric.py:84: FutureWarning: The behavior of DataFrame.sum with axis=None is deprecated, in a future version this will reduce over both axes and return a scalar. To retain the old behavior, pass axis=0 (or do not pass axis)\n",
      "  return reduction(axis=axis, out=out, **passkwargs)\n",
      "C:\\Users\\20791\\AppData\\Local\\Temp\\ipykernel_12160\\2784843833.py:8: DeprecationWarning: DataFrameGroupBy.apply operated on the grouping columns. This behavior is deprecated, and in a future version of pandas the grouping columns will be excluded from the operation. Either pass `include_groups=False` to exclude the groupings or explicitly select the grouping columns after groupby to silence this warning.\n",
      "  s2=d.groupby('A').apply(sum)  #数据分组求和\n"
     ]
    }
   ],
   "execution_count": 5
  },
  {
   "metadata": {},
   "cell_type": "markdown",
   "source": "修正后：",
   "id": "fc72c825c0104a7a"
  },
  {
   "metadata": {
    "ExecuteTime": {
     "end_time": "2025-03-02T04:04:09.822797300Z",
     "start_time": "2025-03-01T03:43:44.714777Z"
    }
   },
   "cell_type": "code",
   "source": [
    "import pandas as pd\n",
    "import numpy as np\n",
    "\n",
    "# 生成随机数据（4列，列名为A/B/C/D）\n",
    "d = pd.DataFrame(\n",
    "    np.random.randint(1, 6, (10, 4)),\n",
    "    columns=list(\"ABCD\")\n",
    ")\n",
    "\n",
    "# 删除冗余的合并操作（dd与原数据d相同）\n",
    "# d1 = d[:4]\n",
    "# d2 = d[4:]\n",
    "# dd = pd.concat([d1, d2])\n",
    "\n",
    "# 分组计算均值和总和（修正警告）\n",
    "s1 = d.groupby('A').mean()      # 按A列分组，计算各组的均值\n",
    "s2 = d.groupby('A').sum()       # 按A列分组，计算各组的和（自动排除非数值列）\n",
    "print(d)\n",
    "print(\"分组均值：\\n\", s1)\n",
    "print(\"\\n分组总和：\\n\", s2)"
   ],
   "id": "8230675165310dcc",
   "outputs": [
    {
     "name": "stdout",
     "output_type": "stream",
     "text": [
      "   A  B  C  D\n",
      "0  5  4  3  4\n",
      "1  4  2  1  1\n",
      "2  2  3  5  4\n",
      "3  1  1  1  2\n",
      "4  1  2  1  3\n",
      "5  5  1  2  5\n",
      "6  5  4  2  5\n",
      "7  1  2  1  1\n",
      "8  3  4  1  4\n",
      "9  2  3  4  3\n",
      "分组均值：\n",
      "           B         C         D\n",
      "A                              \n",
      "1  1.666667  1.000000  2.000000\n",
      "2  3.000000  4.500000  3.500000\n",
      "3  4.000000  1.000000  4.000000\n",
      "4  2.000000  1.000000  1.000000\n",
      "5  3.000000  2.333333  4.666667\n",
      "\n",
      "分组总和：\n",
      "    B  C   D\n",
      "A          \n",
      "1  5  3   6\n",
      "2  6  9   7\n",
      "3  4  1   4\n",
      "4  2  1   1\n",
      "5  9  7  14\n"
     ]
    }
   ],
   "execution_count": 7
  },
  {
   "metadata": {},
   "cell_type": "markdown",
   "source": [
    "分组依据：\n",
    "- 按照列 'A' 的唯一值将数据框 d 分成多个子集（组）。\n",
    "- 例如，如果列 'A' 的值是 [1, 2, 2, 1, 3]，则分组结果为：\n",
    "- 组 1：所有 'A' == 1 的行。\n",
    "- 组 2：所有 'A' == 2 的行。\n",
    "- 组 3：所有 'A' == 3 的行。\n",
    "-\n",
    "以此类推"
   ],
   "id": "10f4b84cb579cef"
  },
  {
   "metadata": {},
   "cell_type": "markdown",
   "source": [
    "### 2.2 数据清洗\n",
    "\n",
    "对DataFrame进行选取，要从3个层次考虑：行列、区域、单元格。\n",
    "1. 选用中括号[]选取行列。\n",
    "2. 使用行和列的名称进行标签定位的`df.loc[]`。\n",
    "3. 使用整型索引（绝对位置索引）的`df.iloc[]`。\n",
    "在数据预处理中，需要对缺失值等进行一些特殊处理。"
   ],
   "id": "efc344f11f5c4ed3"
  },
  {
   "metadata": {
    "ExecuteTime": {
     "end_time": "2025-03-02T04:04:09.822797300Z",
     "start_time": "2025-03-01T04:00:32.362831Z"
    }
   },
   "cell_type": "code",
   "source": [
    "import pandas as pd\n",
    "import numpy as np\n",
    "a = pd.DataFrame(np.random.randint(1, 6, (5, 3)), index = list('abcde'), columns = ['one', 'two', 'three'])\n",
    "a.loc['a', 'one'] = np.nan  # 将第1行第1列的值设为NaN\n",
    "b = a.iloc[1:3, 0:2].values  # 提取第2、3行，第1、2列的数据\n",
    "a['four'] = 'bar'  # 增加第4列，所有值为'bar'\n",
    "a2 = a.reindex(['a', 'b', 'c', 'd', 'e', 'f'])\n",
    "#重新索引：将行索引改为 ['a', 'b', 'c', 'd', 'e', 'f']，新增行 'f'，其值为 NaN。\n",
    "a3 = a2.dropna()   #删除结果：删除所有包含 NaN 的行（即行 'a' 和 'f'）。\n",
    "print(a); print(a2); print(a3)"
   ],
   "id": "e2dc4e3b95220fdf",
   "outputs": [
    {
     "name": "stdout",
     "output_type": "stream",
     "text": [
      "   one  two  three four\n",
      "a  NaN    3      1  bar\n",
      "b  5.0    5      5  bar\n",
      "c  5.0    1      2  bar\n",
      "d  5.0    4      1  bar\n",
      "e  5.0    5      5  bar\n",
      "   one  two  three four\n",
      "a  NaN  3.0    1.0  bar\n",
      "b  5.0  5.0    5.0  bar\n",
      "c  5.0  1.0    2.0  bar\n",
      "d  5.0  4.0    1.0  bar\n",
      "e  5.0  5.0    5.0  bar\n",
      "f  NaN  NaN    NaN  NaN\n",
      "   one  two  three four\n",
      "b  5.0  5.0    5.0  bar\n",
      "c  5.0  1.0    2.0  bar\n",
      "d  5.0  4.0    1.0  bar\n",
      "e  5.0  5.0    5.0  bar\n"
     ]
    }
   ],
   "execution_count": 9
  }
 ],
 "metadata": {
  "kernelspec": {
   "display_name": "Python 3",
   "language": "python",
   "name": "python3"
  },
  "language_info": {
   "codemirror_mode": {
    "name": "ipython",
    "version": 2
   },
   "file_extension": ".py",
   "mimetype": "text/x-python",
   "name": "python",
   "nbconvert_exporter": "python",
   "pygments_lexer": "ipython2",
   "version": "2.7.6"
  }
 },
 "nbformat": 4,
 "nbformat_minor": 5
}
