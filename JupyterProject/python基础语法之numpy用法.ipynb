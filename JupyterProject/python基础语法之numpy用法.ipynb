{
 "cells": [
  {
   "cell_type": "markdown",
   "id": "21a7b69928aec241",
   "metadata": {},
   "source": [
    "# NumPy库"
   ]
  },
  {
   "cell_type": "markdown",
   "id": "935eaa1031707fea",
   "metadata": {},
   "source": [
    "标准安装的Python中用列表（list）保存的一组值，可以用来当作数组使用，但是由于列表的元素可以是任意对象，因此列表中所保存的是对象的指针。这样为了保存一个简单的[1, 2, 3]，需要有3个指针和3个整数对象。对于数值运算来说，这种结构显然比较浪费内存和CPU的计算时间。\n",
    "此外，Python还提供了一个array模块。array对象和列表不同，它直接保存数值，和C语言的一维数组比较类似。但是由于它不支持多维，也没有各种运算函数，因此也不适合做数值运算。\n",
    "NumPy的诞生弥补了这些不足，NumPy提供了两种基本的对象：ndarray（N-dimensional array object）存储单一数据类型的多维数组；ufunc（universal function object）能够对数组进行处理的函数。\n",
    "\n",
    "进一步学习可以参考[这个](https://www.runoob.com/numpy/numpy-tutorial.html)"
   ]
  },
  {
   "cell_type": "markdown",
   "id": "9df18f253b2eb1a4",
   "metadata": {},
   "source": [
    "## 1 数组的创建\n"
   ]
  },
  {
   "cell_type": "markdown",
   "id": "c9da33791df881eb",
   "metadata": {},
   "source": [
    "1. 使用`array`将列表或元组转换为ndarray数组。\n",
    "2. 使用`arange`在给定区间内创建等差数组，其调用格式为\n",
    "arange(start=None, stop=None, step=None, dtpye=None)`\n",
    "生成区间[start, stop)上步长间隔为step的等差数组。\n",
    "3. 使用`linspace`在给定区间内创建间隔相等的数组。其调用格式为\n",
    "`linspace(start, stop, num=50, endpoint=True)`\n",
    "生成区间[start, stop]上间隔相等的num个数据的等差数组，num的默认值为50。\n",
    "4. 使用`logspace`在给定区间上生成等比数组。其调用格式为\n",
    "`logspace(start, stop, num=50, endpoint=True, base=10.0)`\n",
    "默认生成区间 上的num个数据的等比数组。\n",
    "5. 使用ones、zeros、empty和ones_like等系列函数"
   ]
  },
  {
   "cell_type": "code",
   "id": "initial_id",
   "metadata": {
    "ExecuteTime": {
     "end_time": "2025-03-02T04:03:36.884241Z",
     "start_time": "2025-03-02T04:03:36.830253Z"
    }
   },
   "source": [
    "import numpy as np\n",
    "a1 = np.array([1, 2, 3, 4])   #生成整型数组\n",
    "a2 = a1.astype(float)\n",
    "a3 = np.array([1, 2, 3, 4], dtype=float)   #浮点数\n",
    "print(a1.dtype); print(a2.dtype); print(a3.dtype)\n",
    "b = np.array([[1, 2, 3], [4, 5, 6]])\n",
    "c = np.arange(1,5)        #生成数组[1, 2, 3, 4]\n",
    "d = np.linspace(1, 4, 4)  #生成数组[1, 2, 3, 4]\n",
    "e = np.logspace(1, 3, 3, base=2)  #生成数组[2, 4, 8]\n",
    "print(b); print(c); print(d); print(e)"
   ],
   "outputs": [
    {
     "name": "stdout",
     "output_type": "stream",
     "text": [
      "int64\n",
      "float64\n",
      "float64\n",
      "[[1 2 3]\n",
      " [4 5 6]]\n",
      "[1 2 3 4]\n",
      "[1. 2. 3. 4.]\n",
      "[2. 4. 8.]\n"
     ]
    }
   ],
   "execution_count": 1
  },
  {
   "cell_type": "code",
   "id": "1b56d8513b34fb24",
   "metadata": {
    "ExecuteTime": {
     "end_time": "2025-03-02T04:03:36.893380Z",
     "start_time": "2025-03-02T04:03:36.888443Z"
    }
   },
   "source": [
    "import numpy as np\n",
    "a = np.ones(4, dtype=int)     #输出[1, 1, 1, 1]\n",
    "b = np.ones((4,), dtype=int)  #同a\n",
    "c = np.ones((4,1))             #输出4行1列的数组\n",
    "d = np.zeros(4)               #输出[0, 0, 0, 0]\n",
    "e = np.empty(3)               #生成3个元素的空数组行向量\n",
    "f = np.eye(3)                 #生成3阶单位阵\n",
    "g = np.eye(3, k=1)  #生成第k对角线的元素为1，其他元素为0的3阶方阵\n",
    "h = np.zeros_like(a)          #生成与a同维数的全0数组\n",
    "print(a); print(b); print(c); print(d); print(e); print(f); print(g); print(h)"
   ],
   "outputs": [
    {
     "name": "stdout",
     "output_type": "stream",
     "text": [
      "[1 1 1 1]\n",
      "[1 1 1 1]\n",
      "[[1.]\n",
      " [1.]\n",
      " [1.]\n",
      " [1.]]\n",
      "[0. 0. 0. 0.]\n",
      "[2. 4. 8.]\n",
      "[[1. 0. 0.]\n",
      " [0. 1. 0.]\n",
      " [0. 0. 1.]]\n",
      "[[0. 1. 0.]\n",
      " [0. 0. 1.]\n",
      " [0. 0. 0.]]\n",
      "[0 0 0 0]\n"
     ]
    }
   ],
   "execution_count": 2
  },
  {
   "cell_type": "markdown",
   "id": "26187d0bce71767d",
   "metadata": {},
   "source": [
    "## 2 元素数组的索引"
   ]
  },
  {
   "cell_type": "markdown",
   "id": "3a19c6f757ed673c",
   "metadata": {},
   "source": [
    "NumPy中的array数组与Python基础数据结构列表（list）的区别是：列表中的元素可以是不同的数据类型，而array数组只允许存储相同的数据类型。\n",
    "1. 对于一维数组来说，Python原生的列表和NumPy的数组的切片操作都是相同的，无非是记住一个规则：列表名（或数组名）[start: end: step]，但不包括索引end对应的值。\n",
    "2. 二维数据列表元素的引用方式为a[i][j]；array数组元素的引用方式还可以为a[i,j]。\n",
    "3. NumPy比一般的Python 序列提供更多的索引方式。除了用整数和切片的一般索引外，数组还可以布尔索引及花式索引。"
   ]
  },
  {
   "cell_type": "code",
   "id": "a7662760a4e07d1e",
   "metadata": {
    "ExecuteTime": {
     "end_time": "2025-03-02T04:03:37.054238Z",
     "start_time": "2025-03-02T04:03:37.049720Z"
    }
   },
   "source": [
    "import numpy as np\n",
    "a = np.arange(16).reshape(4,4)  #生成4行4列的数组\n",
    "b = a[1][2]   #输出6\n",
    "c = a[1, 2]   #同b\n",
    "d = a[1:2, 2:3]  #输出[[6]]\n",
    "x = np.array([0, 1, 2, 1])\n",
    "print(a[x==1])  #输出a的第2、4行元素\n",
    "print(a)\n",
    "print(b); print(c); print(d);"
   ],
   "outputs": [
    {
     "name": "stdout",
     "output_type": "stream",
     "text": [
      "[[ 4  5  6  7]\n",
      " [12 13 14 15]]\n",
      "[[ 0  1  2  3]\n",
      " [ 4  5  6  7]\n",
      " [ 8  9 10 11]\n",
      " [12 13 14 15]]\n",
      "6\n",
      "6\n",
      "[[6]]\n"
     ]
    }
   ],
   "execution_count": 3
  },
  {
   "cell_type": "markdown",
   "id": "be67af6f7a4c37ac",
   "metadata": {},
   "source": [
    "## 3 矩阵分割"
   ]
  },
  {
   "cell_type": "markdown",
   "id": "9d40a5fd6dd64385",
   "metadata": {},
   "source": [
    "### 3.1 矩阵的合并\n"
   ]
  },
  {
   "cell_type": "markdown",
   "id": "b9c7502ec21371b7",
   "metadata": {},
   "source": [
    "在实际应用中，经常需要合并矩阵，可以用vstack([A, B])和hstack([A, B])实现不同轴上的合并。vstack（）是一个将矩阵上下合并的函数，而hstack()则是左右合并的函数。"
   ]
  },
  {
   "cell_type": "code",
   "id": "30a11a672a6779dd",
   "metadata": {
    "ExecuteTime": {
     "end_time": "2025-03-02T04:03:37.078682Z",
     "start_time": "2025-03-02T04:03:37.063185Z"
    }
   },
   "source": [
    "import numpy as np\n",
    "a = np.arange(16).reshape(4,4)  #生成4行4列的数组\n",
    "b = np.floor(5 * np.random.random((2, 4))) #floor向下取整\n",
    "c = np.ceil(6*np.random.random((4, 2)))  #ceil向上取整\n",
    "d = np.vstack([a, b])  #上下合并矩阵\n",
    "e = np.hstack([a, c])  #左右合并矩阵\n",
    "print(a); print(b); print(c); print(d); print(e)"
   ],
   "outputs": [
    {
     "name": "stdout",
     "output_type": "stream",
     "text": [
      "[[ 0  1  2  3]\n",
      " [ 4  5  6  7]\n",
      " [ 8  9 10 11]\n",
      " [12 13 14 15]]\n",
      "[[4. 3. 3. 4.]\n",
      " [0. 4. 1. 1.]]\n",
      "[[5. 5.]\n",
      " [1. 5.]\n",
      " [6. 4.]\n",
      " [5. 4.]]\n",
      "[[ 0.  1.  2.  3.]\n",
      " [ 4.  5.  6.  7.]\n",
      " [ 8.  9. 10. 11.]\n",
      " [12. 13. 14. 15.]\n",
      " [ 4.  3.  3.  4.]\n",
      " [ 0.  4.  1.  1.]]\n",
      "[[ 0.  1.  2.  3.  5.  5.]\n",
      " [ 4.  5.  6.  7.  1.  5.]\n",
      " [ 8.  9. 10. 11.  6.  4.]\n",
      " [12. 13. 14. 15.  5.  4.]]\n"
     ]
    }
   ],
   "execution_count": 4
  },
  {
   "cell_type": "markdown",
   "id": "615e8b893103e357",
   "metadata": {},
   "source": [
    "### 3.2 矩阵分割"
   ]
  },
  {
   "cell_type": "markdown",
   "id": "c2e3d04277cdb820",
   "metadata": {},
   "source": [
    "vsplit(a, m)把a平均分成m个行vsplit(a, m)把a平均分成m个行数组，hsplit(a, n)把a平均分成n个列数组。数组，hsplit(a, n)把a平均分成n个列数组。"
   ]
  },
  {
   "cell_type": "code",
   "id": "dffa05ada18b4c96",
   "metadata": {
    "ExecuteTime": {
     "end_time": "2025-03-02T04:03:37.090613Z",
     "start_time": "2025-03-02T04:03:37.085672Z"
    }
   },
   "source": [
    "import numpy as np\n",
    "a = np.arange(16).reshape(4,4)  #生成4行4列的数组\n",
    "b = np.vsplit(a, 2)             #行分割\n",
    "print(a)\n",
    "print('行分割：\\n', b[0], '\\n', b[1])\n",
    "c = np.hsplit(a, 4)             #列分割\n",
    "print('列分割：\\n', c[0], '\\n', c[1], '\\n', c[2], '\\n', c[3])"
   ],
   "outputs": [
    {
     "name": "stdout",
     "output_type": "stream",
     "text": [
      "[[ 0  1  2  3]\n",
      " [ 4  5  6  7]\n",
      " [ 8  9 10 11]\n",
      " [12 13 14 15]]\n",
      "行分割：\n",
      " [[0 1 2 3]\n",
      " [4 5 6 7]] \n",
      " [[ 8  9 10 11]\n",
      " [12 13 14 15]]\n",
      "列分割：\n",
      " [[ 0]\n",
      " [ 4]\n",
      " [ 8]\n",
      " [12]] \n",
      " [[ 1]\n",
      " [ 5]\n",
      " [ 9]\n",
      " [13]] \n",
      " [[ 2]\n",
      " [ 6]\n",
      " [10]\n",
      " [14]] \n",
      " [[ 3]\n",
      " [ 7]\n",
      " [11]\n",
      " [15]]\n"
     ]
    }
   ],
   "execution_count": 5
  },
  {
   "cell_type": "markdown",
   "id": "1e53427ceb316afa",
   "metadata": {},
   "source": [
    "### 5.3 数组元素的索引"
   ]
  },
  {
   "cell_type": "markdown",
   "id": "943f1245bbbe1bb9",
   "metadata": {},
   "source": [
    "对于一维数组来说，Python原生的列表和NumPy的数组的切片操作都是相同的，无非是记住一个规则：列表名（或数组名）[start: end: step]，但不包括索引end对应的值。"
   ]
  },
  {
   "cell_type": "code",
   "id": "377301087e41d1be",
   "metadata": {
    "ExecuteTime": {
     "end_time": "2025-03-02T04:03:37.104416Z",
     "start_time": "2025-03-02T04:03:37.100214Z"
    }
   },
   "source": [
    "import numpy as np\n",
    "a = np.arange(16).reshape(4,4)  #生成4行4列的数组\n",
    "b = a[1][2]   #输出6\n",
    "c = a[1, 2]   #同b\n",
    "d = a[1:2, 2:3]  #输出[[6]]\n",
    "x = np.array([0, 1, 2, 1])\n",
    "print(a[x==1])  #输出a的第2、4行元素"
   ],
   "outputs": [
    {
     "name": "stdout",
     "output_type": "stream",
     "text": [
      "[[ 4  5  6  7]\n",
      " [12 13 14 15]]\n"
     ]
    }
   ],
   "execution_count": 6
  },
  {
   "cell_type": "markdown",
   "id": "f467fbf3cffada46",
   "metadata": {},
   "source": [
    "## 6 矩阵的简单运算"
   ]
  },
  {
   "cell_type": "markdown",
   "id": "f506141d65d28ce4",
   "metadata": {},
   "source": [
    "### 6.1 求和"
   ]
  },
  {
   "cell_type": "code",
   "id": "e4138ad4b531f0e1",
   "metadata": {
    "ExecuteTime": {
     "end_time": "2025-03-02T04:03:37.126494Z",
     "start_time": "2025-03-02T04:03:37.118436Z"
    }
   },
   "source": [
    "import numpy as np\n",
    "a = np.array([[0, 3, 4], [1, 6, 4]])\n",
    "b = a.sum()   #使用方法，求矩阵所有元素的和\n",
    "c1 = sum(a)   #使用内置函数，求矩阵逐列元素的和\n",
    "c2 = np.sum(a, axis=0) #使用函数，求矩阵逐列元素的和\n",
    "c3 = np.sum(a, axis=0, keepdims=True)   #逐列求和\n",
    "print(c2.shape, c3.shape)  #c2是(3,)数组，c3是(1,3)数组\n",
    "print(c1); print(c2); print(c3)"
   ],
   "outputs": [
    {
     "name": "stdout",
     "output_type": "stream",
     "text": [
      "(3,) (1, 3)\n",
      "[1 9 8]\n",
      "[1 9 8]\n",
      "[[1 9 8]]\n"
     ]
    }
   ],
   "execution_count": 7
  },
  {
   "cell_type": "markdown",
   "id": "f764f24c4bf8573d",
   "metadata": {},
   "source": [
    "### 6.2 逐个运算"
   ]
  },
  {
   "cell_type": "markdown",
   "id": "b417ddb5f1ff65db",
   "metadata": {},
   "source": [
    "对于ndarray数组，+、-、*、/都是对应的逐个元素运算。乘幂运算**也是对应逐个元素运算。"
   ]
  },
  {
   "cell_type": "code",
   "id": "e883bc36cb6ae59a",
   "metadata": {
    "ExecuteTime": {
     "end_time": "2025-03-02T04:03:37.145667Z",
     "start_time": "2025-03-02T04:03:37.140135Z"
    }
   },
   "source": [
    "import numpy as np\n",
    "a = np.array([[0, 3, 4], [1, 6, 4]])\n",
    "b = np.array([[1, 2, 3], [2, 1, 4]])\n",
    "c = a / b   #两个矩阵对应元素相除\n",
    "d = np.array([2, 3, 2])\n",
    "e = a * d   #d先广播成与a同维数的矩阵，再逐个元素相乘\n",
    "f = np.array([[3],[2]])\n",
    "g = a * f   #f先广播成与a同维数的矩阵，再逐个元素相乘\n",
    "h = a ** (1/2)  #a矩阵逐个元素的1/2次幂。\n",
    "print(a); print(b); print(c); print(d); print(e); print(f); print(g); print(h)"
   ],
   "outputs": [
    {
     "name": "stdout",
     "output_type": "stream",
     "text": [
      "[[0 3 4]\n",
      " [1 6 4]]\n",
      "[[1 2 3]\n",
      " [2 1 4]]\n",
      "[[0.         1.5        1.33333333]\n",
      " [0.5        6.         1.        ]]\n",
      "[2 3 2]\n",
      "[[ 0  9  8]\n",
      " [ 2 18  8]]\n",
      "[[3]\n",
      " [2]]\n",
      "[[ 0  9 12]\n",
      " [ 2 12  8]]\n",
      "[[0.         1.73205081 2.        ]\n",
      " [1.         2.44948974 2.        ]]\n"
     ]
    }
   ],
   "execution_count": 8
  },
  {
   "cell_type": "markdown",
   "id": "1091de1735b01d5f",
   "metadata": {},
   "source": [
    "### 6.3 矩阵乘法"
   ]
  },
  {
   "cell_type": "code",
   "id": "9e2c0f283f114f81",
   "metadata": {
    "ExecuteTime": {
     "end_time": "2025-03-02T04:03:37.168440Z",
     "start_time": "2025-03-02T04:03:37.162956Z"
    }
   },
   "source": [
    "import numpy as np\n",
    "a = np.ones(4)\n",
    "b = np.arange(2, 10, 2)\n",
    "c = a @ b  #a作为行向量, b作为列向量\n",
    "d = np.arange(16).reshape(4,4)\n",
    "f = a @ d  #a作为行向量\n",
    "g = d @ a  #a作为列向量\n",
    "print(a); print(b); print(c); print(d); print(e); print(f); print(g);"
   ],
   "outputs": [
    {
     "name": "stdout",
     "output_type": "stream",
     "text": [
      "[1. 1. 1. 1.]\n",
      "[2 4 6 8]\n",
      "20.0\n",
      "[[ 0  1  2  3]\n",
      " [ 4  5  6  7]\n",
      " [ 8  9 10 11]\n",
      " [12 13 14 15]]\n",
      "[[ 0  9  8]\n",
      " [ 2 18  8]]\n",
      "[24. 28. 32. 36.]\n",
      "[ 6. 22. 38. 54.]\n"
     ]
    }
   ],
   "execution_count": 9
  },
  {
   "cell_type": "markdown",
   "id": "cbd6c07e7b554b5a",
   "metadata": {},
   "source": [
    "## 7 矩阵运算与线性代数"
   ]
  },
  {
   "cell_type": "markdown",
   "id": "5c369670098375a6",
   "metadata": {},
   "source": [
    "### 7.1 范数计算\n"
   ]
  },
  {
   "cell_type": "markdown",
   "id": "84b775f3a6a0adf1",
   "metadata": {},
   "source": [
    "计算范数的函数`norm`的调用格式如下：\n",
    "\n",
    "        norm(x, ord=None, axis=None, keepdims=False)\n",
    "其中：\n",
    "\n",
    "`x`: 表示要度量的向量或矩阵；\n",
    "\n",
    "`ord`: 表示范数的种类，例如1范数，2范数， 范数。\n",
    "\n",
    "`axis`: `axis=1`表示按行向量处理，求多个行向量的范数；`axis=0`表示按列向量处理，求多个列向量的范数；`axis=None`表示矩阵范数。\n",
    "\n",
    "`keepdims`: 是否保持矩阵的二维特性。`True`表示保持矩阵的二维特性，`False`则相反。\n"
   ]
  },
  {
   "cell_type": "markdown",
   "id": "81f3e2d2de6bef5a",
   "metadata": {},
   "source": [
    "求\n",
    "$$\n",
    "\\begin{bmatrix}\n",
    "0 & 3 & 4\\\\\n",
    "1 & 6 & 4\\\\\n",
    "\\end{bmatrix}\n",
    "$$\n",
    "的各个行向量的2范数，各个列向量的2范数和矩阵2范数。\n"
   ]
  },
  {
   "cell_type": "code",
   "id": "e6fc0f0fa1d21a12",
   "metadata": {
    "ExecuteTime": {
     "end_time": "2025-03-02T04:03:37.190097Z",
     "start_time": "2025-03-02T04:03:37.185689Z"
    }
   },
   "source": [
    "a = np.array([[0, 3, 4], [1, 6, 4]])\n",
    "b = np.linalg.norm(a, axis=1)  #求行向量2范数\n",
    "#默认行为：不指定 ord 参数时，np.linalg.norm 计算的是 Frobenius 范数（所有元素平方和的平方根）。\n",
    "c = np.linalg.norm(a, axis=0)  #求列向量2范数\n",
    "d = np.linalg.norm(a)   #求矩阵2范数\n",
    "print('行向量2范数为：', np.round(b, 4))\n",
    "print('列向量2范数为：', np.round(c, 4))\n",
    "print('矩阵2范数为：', round(d, 4))"
   ],
   "outputs": [
    {
     "name": "stdout",
     "output_type": "stream",
     "text": [
      "行向量2范数为： [5.     7.2801]\n",
      "列向量2范数为： [1.     6.7082 5.6569]\n",
      "矩阵2范数为： 8.8318\n"
     ]
    }
   ],
   "execution_count": 10
  },
  {
   "cell_type": "markdown",
   "id": "69cf7f6479bf8a4b",
   "metadata": {},
   "source": [
    "关键区别总结\n",
    "\n",
    "| 范数类型\t      | 计算方法\t         | 代码参数  |\n",
    "|------------|---------------|-------|\n",
    "| 行向量  2-范数\t |每行元素的平方和的平方根\t|axis=1|\n",
    "| 列向量 2-范数\t  | 每列元素的平方和的平方根\t | axis=0 |\n",
    "|矩阵 Frobenius 范数\t|所有元素的平方和的平方根\t|默认（不指定 ord）\n",
    "矩阵谱范数（2-范数）\t|最大奇异值\t|ord=2"
   ]
  },
  {
   "cell_type": "markdown",
   "id": "acae19dee0a036b5",
   "metadata": {},
   "source": [
    "### 7.2 求解线性方程组唯一解"
   ]
  },
  {
   "cell_type": "markdown",
   "id": "b443876f0936f96c",
   "metadata": {},
   "source": [
    "求解方程组\n",
    "$$\n",
    "\\begin{cases}\n",
    "3x + y = 9\\\\\n",
    "x + 2y = 8\\\\\n",
    "\\end{cases}\n",
    "$$"
   ]
  },
  {
   "cell_type": "code",
   "id": "a03ad74ce4d30dd9",
   "metadata": {
    "ExecuteTime": {
     "end_time": "2025-03-02T04:03:37.212870Z",
     "start_time": "2025-03-02T04:03:37.206735Z"
    }
   },
   "source": [
    "import numpy as np\n",
    "a = np.array([[3, 1], [1, 2]])\n",
    "b = np.array([9, 8])\n",
    "x1 = np.linalg.inv(a) @ b\n",
    "x2 = np.linalg.solve(a, b)\n",
    "print(x1); print(x2)"
   ],
   "outputs": [
    {
     "name": "stdout",
     "output_type": "stream",
     "text": [
      "[2. 3.]\n",
      "[2. 3.]\n"
     ]
    }
   ],
   "execution_count": 11
  },
  {
   "cell_type": "markdown",
   "id": "b1bc51a7547daaf7",
   "metadata": {},
   "source": [
    "### 7.3 求超定方程组的最小二乘解"
   ]
  },
  {
   "cell_type": "markdown",
   "id": "1c4fea4f849ed49f",
   "metadata": {},
   "source": [
    "求解线性方程组\n",
    "$$\n",
    "\\begin{cases}\n",
    "3x + y = 9\\\\\n",
    "x + 2y = 8\\\\\n",
    "x + y = 6\\\\\n",
    "\\end{cases}\n",
    "$$"
   ]
  },
  {
   "cell_type": "code",
   "id": "8d2cda08c5d5d72f",
   "metadata": {
    "ExecuteTime": {
     "end_time": "2025-03-02T04:03:37.242461Z",
     "start_time": "2025-03-02T04:03:37.236706Z"
    }
   },
   "source": [
    "import numpy as np\n",
    "a = np.array([[3, 1], [1, 2], [1, 1]])\n",
    "b = np.array([9, 8, 6])\n",
    "x = np.linalg.pinv(a) @ b\n",
    "print(np.round(x, 4))"
   ],
   "outputs": [
    {
     "name": "stdout",
     "output_type": "stream",
     "text": [
      "[2.     3.1667]\n"
     ]
    }
   ],
   "execution_count": 12
  },
  {
   "cell_type": "markdown",
   "id": "8dfa5e0bec9f9fab",
   "metadata": {},
   "source": [
    "### 7.4 求下列矩阵的特征值和特征向量\n",
    "$$\n",
    "\\begin{bmatrix}\n",
    "0 & 0 & 0 & 1\\\\\n",
    "0 & 0 & 1 & 0\\\\\n",
    "0 & 1 & 0 & 0\\\\\n",
    "1 & 0 & 0 & 0\\\\\n",
    "\\end{bmatrix}\n",
    "$$"
   ]
  },
  {
   "cell_type": "code",
   "id": "9e2a48595be39577",
   "metadata": {
    "ExecuteTime": {
     "end_time": "2025-03-02T04:03:37.264308Z",
     "start_time": "2025-03-02T04:03:37.258874Z"
    }
   },
   "source": [
    "import numpy as np\n",
    "a = np.eye(4)\n",
    "b = np.rot90(a)\n",
    "c, d = np.linalg.eig(b)\n",
    "print('特征值为：', c)\n",
    "print('特征值为：\\n', d)"
   ],
   "outputs": [
    {
     "name": "stdout",
     "output_type": "stream",
     "text": [
      "特征值为： [ 1. -1.  1. -1.]\n",
      "特征值为：\n",
      " [[ 0.70710678  0.70710678  0.          0.        ]\n",
      " [ 0.          0.          0.70710678 -0.70710678]\n",
      " [ 0.          0.          0.70710678  0.70710678]\n",
      " [ 0.70710678 -0.70710678  0.          0.        ]]\n"
     ]
    }
   ],
   "execution_count": 13
  }
 ],
 "metadata": {
  "kernelspec": {
   "display_name": "Python 3 (ipykernel)",
   "language": "python",
   "name": "python3"
  },
  "language_info": {
   "codemirror_mode": {
    "name": "ipython",
    "version": 3
   },
   "file_extension": ".py",
   "mimetype": "text/x-python",
   "name": "python",
   "nbconvert_exporter": "python",
   "pygments_lexer": "ipython3",
   "version": "3.12.7"
  }
 },
 "nbformat": 4,
 "nbformat_minor": 5
}
