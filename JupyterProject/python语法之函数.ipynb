{
 "cells": [
  {
   "metadata": {},
   "cell_type": "markdown",
   "source": "# python语法之函数",
   "id": "7b47b504a67eeb42"
  },
  {
   "metadata": {},
   "cell_type": "markdown",
   "source": "在Python语言中，函数是一组相关联的、能够完成特定任务的语句模块，分内置函数、第三方模块函数和自定义函数。内置函数是Python系统自带的函数，模块函数是NumPy等库中的函数。下面先介绍自定义函数。\n",
   "id": "c739da92245c536a"
  },
  {
   "metadata": {},
   "cell_type": "markdown",
   "source": "## 1.自定义函数",
   "id": "de04591df57ccec1"
  },
  {
   "metadata": {},
   "cell_type": "markdown",
   "source": [
    "Python中定义函数的语法如下：\n",
    "\n",
    "        def functionName(formalParameters)：\n",
    "                functionBody\n"
   ],
   "id": "8ece60febb8d46e"
  },
  {
   "metadata": {
    "collapsed": true,
    "ExecuteTime": {
     "end_time": "2025-03-02T03:58:18.528785Z",
     "start_time": "2025-03-02T03:58:18.520217Z"
    }
   },
   "cell_type": "code",
   "source": [
    "def factorial(n):  #定义阶乘函数\n",
    "    r = 1\n",
    "    while n > 1:\n",
    "        r *= n\n",
    "        n -= 1\n",
    "    return r\n",
    "\n",
    "def fib(n):   #定义输出斐波那契数列函数\n",
    "    a, b = 1, 1\n",
    "    while a < n:\n",
    "        print(a, end='  ')\n",
    "        a, b = b, a+b\n",
    "\n",
    "print('%d!= %d'%(5,factorial(5)))\n",
    "fib(200)\n"
   ],
   "id": "initial_id",
   "outputs": [
    {
     "name": "stdout",
     "output_type": "stream",
     "text": [
      "5!= 120\n",
      "1  1  2  3  5  8  13  21  34  55  89  144  "
     ]
    }
   ],
   "execution_count": 1
  },
  {
   "metadata": {},
   "cell_type": "markdown",
   "source": "我们也可以先编写求阶乘和输出斐波那契数列的两个函数，并保存在文件ex2_1_2.py中，供其他程序调用。\n",
   "id": "bf3b7916ffd240a7"
  },
  {
   "metadata": {
    "ExecuteTime": {
     "end_time": "2025-03-02T03:58:18.560776Z",
     "start_time": "2025-03-02T03:58:18.552337Z"
    }
   },
   "cell_type": "code",
   "source": [
    "from ex2_12_2 import factorial, fib\n",
    "print('%d!= %d'%(5,factorial(5)))\n",
    "fib(200)"
   ],
   "id": "2e9545a2dfa8e475",
   "outputs": [
    {
     "name": "stdout",
     "output_type": "stream",
     "text": [
      "5!= 120\n",
      "1  1  2  3  5  8  13  21  34  55  89  144  "
     ]
    }
   ],
   "execution_count": 2
  },
  {
   "metadata": {},
   "cell_type": "markdown",
   "source": "数据分组",
   "id": "357952762ca37df8"
  },
  {
   "metadata": {
    "ExecuteTime": {
     "end_time": "2025-03-02T03:58:18.789978Z",
     "start_time": "2025-03-02T03:58:18.783626Z"
    }
   },
   "cell_type": "code",
   "source": [
    "def bifurcate_by(L, fn):\n",
    "    return [[x for x in L if fn(x)],\n",
    "            [x for x in L if not fn(x)]]\n",
    "s=bifurcate_by(['beep', 'boop', 'foo', 'bar'], lambda x: x[0] == 'b')\n",
    "print(s)"
   ],
   "id": "ca23737b606dd960",
   "outputs": [
    {
     "name": "stdout",
     "output_type": "stream",
     "text": [
      "[['beep', 'boop', 'bar'], ['foo']]\n"
     ]
    }
   ],
   "execution_count": 3
  },
  {
   "metadata": {},
   "cell_type": "markdown",
   "source": "## 2 匿名函数",
   "id": "34feb1eaef14746e"
  },
  {
   "metadata": {},
   "cell_type": "markdown",
   "source": [
    "所谓匿名函数，是指不以def语句定义的没有名称的函数，它在使用时临时声明、立刻执行，其特点是执行效率高。\n",
    "Python使用`lambda`来创建匿名函数，它是一个可以接收任意多个参数并且返回单个表达式值的函数，其语法格式为：\n",
    "\n",
    "        lambda arg1[，arg2，…，argn]：expression"
   ],
   "id": "7107a30f0e2090bd"
  },
  {
   "metadata": {
    "ExecuteTime": {
     "end_time": "2025-03-02T03:58:18.814544Z",
     "start_time": "2025-03-02T03:58:18.809651Z"
    }
   },
   "cell_type": "code",
   "source": [
    "f = lambda x, y, z: x * y * z\n",
    "L = lambda x: [x ** 2, x ** 3, x ** 4]\n",
    "print(f(3,4,5)); print(L(2))"
   ],
   "id": "560abf85f7906479",
   "outputs": [
    {
     "name": "stdout",
     "output_type": "stream",
     "text": [
      "60\n",
      "[4, 8, 16]\n"
     ]
    }
   ],
   "execution_count": 4
  },
  {
   "metadata": {},
   "cell_type": "markdown",
   "source": "## 3 模块的导入与使用",
   "id": "ce27a30475abf3d9"
  },
  {
   "metadata": {},
   "cell_type": "markdown",
   "source": [
    "随着程序的变大及代码的增多，为了更好地维护程序，一般会把代码进行分类，分别放在不同的文件中。公共类、函数都可以放在独立的文件中，这样其他多个程序都可以使用，而不必把这些公共的类、函数等在每个程序中复制一份，这样独立的文件就叫做模块。\n",
    "\n",
    "标准库中有与时间相关的time、datetime模块，随机数的random模块，与操作系统交互的os模块，对Python解释器相关操作的sys模块，数学计算的math模块等几十个模块。"
   ],
   "id": "807164ce7a15ac15"
  },
  {
   "metadata": {},
   "cell_type": "markdown",
   "source": "### 3.1 import 模块名 [as 别名]",
   "id": "bfffcb7e0f5ab853"
  },
  {
   "metadata": {
    "ExecuteTime": {
     "end_time": "2025-03-02T03:58:18.904661Z",
     "start_time": "2025-03-02T03:58:18.827036Z"
    }
   },
   "cell_type": "code",
   "source": [
    "import math               #导入标准库math\n",
    "import random             #导入标准库random\n",
    "import numpy.random as nr  #导入numpy库中的random模块\n",
    "a=math.gcd(12,21)          #计算最大公约数，a=3\n",
    "b=random.randint(0,2)       #获得[0,2]区间上的随机整数\n",
    "c=nr.randint(0, 2, (4, 3))      #获得[0,2)区间上的4×3随机整数矩阵\n",
    "print(a); print(b); print(c)      #输出a,b,c的值"
   ],
   "id": "2ed596155ffafba3",
   "outputs": [
    {
     "name": "stdout",
     "output_type": "stream",
     "text": [
      "3\n",
      "0\n",
      "[[1 1 0]\n",
      " [0 1 1]\n",
      " [0 1 1]\n",
      " [1 1 0]]\n"
     ]
    }
   ],
   "execution_count": 5
  },
  {
   "metadata": {},
   "cell_type": "markdown",
   "source": "### 3.2 from 模块名 import 对象名 [as 别名]",
   "id": "2115190535c0078a"
  },
  {
   "metadata": {
    "ExecuteTime": {
     "end_time": "2025-03-02T03:58:18.921016Z",
     "start_time": "2025-03-02T03:58:18.915831Z"
    }
   },
   "cell_type": "code",
   "source": [
    "from random import sample\n",
    "from numpy.random import randint\n",
    "a=sample(range(10), 5)  #在[0,9]区间上选择不重复的5个整数\n",
    "b=randint(0, 10, 5)      #在[0,9]区间上生成5个随机整数\n",
    "print(a); print(b)"
   ],
   "id": "a44cdb1dc6646b0e",
   "outputs": [
    {
     "name": "stdout",
     "output_type": "stream",
     "text": [
      "[6, 9, 3, 4, 0]\n",
      "[4 9 7 4 0]\n"
     ]
    }
   ],
   "execution_count": 6
  },
  {
   "metadata": {},
   "cell_type": "markdown",
   "source": "### 3.3 from 模块名 import *",
   "id": "37448274130605fb"
  },
  {
   "metadata": {
    "ExecuteTime": {
     "end_time": "2025-03-02T03:58:18.938347Z",
     "start_time": "2025-03-02T03:58:18.933677Z"
    }
   },
   "cell_type": "code",
   "source": [
    "from math import *\n",
    "a=sin(3)         #求正弦值\n",
    "b=pi             #常数π\n",
    "c=e              #常数e\n",
    "d=radians(180)   #把角度转换为弧度\n",
    "print(a); print(b); print(c); print(d)"
   ],
   "id": "2679d5a370fc1eb5",
   "outputs": [
    {
     "name": "stdout",
     "output_type": "stream",
     "text": [
      "0.1411200080598672\n",
      "3.141592653589793\n",
      "2.718281828459045\n",
      "3.141592653589793\n"
     ]
    }
   ],
   "execution_count": 7
  },
  {
   "metadata": {},
   "cell_type": "markdown",
   "source": "## 4 自定义函数的导入\n",
   "id": "634c370bd6af272e"
  },
  {
   "metadata": {},
   "cell_type": "markdown",
   "source": [
    "在Python中，每个包含函数的Python文件都可以作为一个模块使用，其模块名就是文件名。\n",
    "\n",
    "可以从[这里](#1自定义函数)找到你想要的"
   ],
   "id": "ae256f069567a24e"
  },
  {
   "metadata": {},
   "cell_type": "markdown",
   "source": "## 5 Python常用内置函数用法",
   "id": "5ff9cce8971e6b53"
  },
  {
   "metadata": {},
   "cell_type": "markdown",
   "source": [
    "内置函数不需要额外导入任何模块即可直接使用，具有非常快的运行速度，推荐优先使用。使用下面的语句可以查看所有内置函数和内置对象。\n",
    "\n",
    "        dir(__builtins__)\n",
    "使用help(函数名)可以查看某个函数的用法。常用的内置函数及其功能简要说明如表2.3所示。\n"
   ],
   "id": "25b9f37f75a2a9c1"
  },
  {
   "metadata": {},
   "cell_type": "markdown",
   "source": "### 5.1 排序(sortef)",
   "id": "639103c17405b595"
  },
  {
   "metadata": {},
   "cell_type": "markdown",
   "source": "sorted()可以对列表、元组、字典、集合或其他可迭代对象进行排序并返回新列表，支持使用key参数指定排序规则。",
   "id": "b173246335c352a"
  },
  {
   "metadata": {
    "ExecuteTime": {
     "end_time": "2025-03-02T03:58:18.973275Z",
     "start_time": "2025-03-02T03:58:18.967452Z"
    }
   },
   "cell_type": "code",
   "source": [
    "import numpy.random as nr\n",
    "x1 = list(range(9, 21))\n",
    "nr.shuffle(x1)\n",
    "x2 = sorted(x1)\n",
    "x3 = sorted(x1, reverse = True)\n",
    "x4 = sorted(x1, key = lambda item : len(str(item)))\n",
    "print(x1); print(x2); print(x3); print(x4)"
   ],
   "id": "21ff98c2195d96d9",
   "outputs": [
    {
     "name": "stdout",
     "output_type": "stream",
     "text": [
      "[18, 9, 12, 15, 11, 13, 17, 14, 16, 10, 19, 20]\n",
      "[9, 10, 11, 12, 13, 14, 15, 16, 17, 18, 19, 20]\n",
      "[20, 19, 18, 17, 16, 15, 14, 13, 12, 11, 10, 9]\n",
      "[9, 18, 12, 15, 11, 13, 17, 14, 16, 10, 19, 20]\n"
     ]
    }
   ],
   "execution_count": 8
  },
  {
   "metadata": {},
   "cell_type": "markdown",
   "source": "### 5.2 枚举(enumerate)\n",
   "id": "8db5b35f00ee1032"
  },
  {
   "metadata": {},
   "cell_type": "markdown",
   "source": "enumerate()函数用来枚举可迭代对象中的元素，返回可迭代的enumerate对象，利用该函数可同时获得索引和值。在使用时，既可以把enumerate对象转换为列表、元组、集合，也可以使用for循环直接遍历其中的元素。",
   "id": "7a4847269e968f4a"
  },
  {
   "metadata": {
    "ExecuteTime": {
     "end_time": "2025-03-02T03:58:19.009658Z",
     "start_time": "2025-03-02T03:58:19.004586Z"
    }
   },
   "cell_type": "code",
   "source": [
    "x1=\"abcde\"\n",
    "x2=list(enumerate(x1))\n",
    "for ind,ch in enumerate(x1): print(ch, end = ' '); print(ind, end = ' ')"
   ],
   "id": "e12d983f2516fdb6",
   "outputs": [
    {
     "name": "stdout",
     "output_type": "stream",
     "text": [
      "a 0 b 1 c 2 d 3 e 4 "
     ]
    }
   ],
   "execution_count": 9
  },
  {
   "metadata": {},
   "cell_type": "markdown",
   "source": "### 5.3 map()函数",
   "id": "29c313c113603258"
  },
  {
   "metadata": {},
   "cell_type": "markdown",
   "source": "函数map(func, *iterables)把一个函数func依次映射到一个可迭代对象iterables的每个元素上，并返回一个可迭代的map对象作为结果，map对象中每个元素是iterables中元素经过函数func处理后的结果。",
   "id": "5e18bb9ce3cc8782"
  },
  {
   "metadata": {
    "ExecuteTime": {
     "end_time": "2025-03-02T03:58:19.046130Z",
     "start_time": "2025-03-02T03:58:19.039704Z"
    }
   },
   "cell_type": "code",
   "source": [
    "import random\n",
    "\n",
    "# 生成 [100000, 99999999] 的随机整数\n",
    "x = random.randint(10**5, 10**8 - 1)\n",
    "y = list(map(int, str(x)))  # 提取每位数字\n",
    "\n",
    "# 使用等长列表测试逻辑\n",
    "list1 = [1, 3, 2, 4, 1]\n",
    "list2 = [3, 2, 1, 2, 4]  # 补充长度\n",
    "z = list(map(lambda x,y: x%2==1 and y%2==0, list1, list2))\n",
    "\n",
    "print(x)\n",
    "print(y)\n",
    "print(z)"
   ],
   "id": "9ae55e428c9641ae",
   "outputs": [
    {
     "name": "stdout",
     "output_type": "stream",
     "text": [
      "95615962\n",
      "[9, 5, 6, 1, 5, 9, 6, 2]\n",
      "[False, True, False, False, True]\n"
     ]
    }
   ],
   "execution_count": 10
  },
  {
   "metadata": {},
   "cell_type": "markdown",
   "source": "### 5.4 filter()函数\n",
   "id": "c393bb4635b23636"
  },
  {
   "metadata": {},
   "cell_type": "markdown",
   "source": "内置函数filter()将一个单参数函数作用到一个序列上，返回该序列中使得该函数取值为True的那些元素组成的filter对象，可以把filter对象转换为列表、元组、集合，也可以直接使用for循环遍历其中的元素。",
   "id": "cbe4327ac76a42ba"
  },
  {
   "metadata": {
    "ExecuteTime": {
     "end_time": "2025-03-02T03:58:19.082019Z",
     "start_time": "2025-03-02T03:58:19.076495Z"
    }
   },
   "cell_type": "code",
   "source": [
    "a = filter(lambda x : x > 10, [1,11,2,45,7,6,13])\n",
    "b = filter(lambda x:  x.isalnum(), ['abc', 'xy12', '***'])\n",
    "#isalnum()是测试是否为字母或数字的方法\n",
    "print(list(a)); print(list(b))"
   ],
   "id": "5a0a9f28d3d2d17",
   "outputs": [
    {
     "name": "stdout",
     "output_type": "stream",
     "text": [
      "[11, 45, 13]\n",
      "['abc', 'xy12']\n"
     ]
    }
   ],
   "execution_count": 11
  },
  {
   "metadata": {},
   "cell_type": "markdown",
   "source": "还可以过滤重复值\n",
   "id": "6c5846c053b3c3d9"
  },
  {
   "metadata": {
    "ExecuteTime": {
     "end_time": "2025-03-02T03:58:19.119018Z",
     "start_time": "2025-03-02T03:58:19.113142Z"
    }
   },
   "cell_type": "code",
   "source": [
    "def filter_non_unique(L):\n",
    "    return [item for item in L if L.count(item) == 1]\n",
    "a = filter_non_unique([1, 2, 2, 3, 4, 4, 5])\n",
    "print(a)\n",
    "a = list(set([1, 2, 2, 3, 4, 4, 5]))\n",
    "print(a)"
   ],
   "id": "854d29997143c7b7",
   "outputs": [
    {
     "name": "stdout",
     "output_type": "stream",
     "text": [
      "[1, 3, 5]\n",
      "[1, 2, 3, 4, 5]\n"
     ]
    }
   ],
   "execution_count": 12
  },
  {
   "metadata": {},
   "cell_type": "markdown",
   "source": "### 5.5 zip()函数\n",
   "id": "b9e48327504f26f9"
  },
  {
   "metadata": {},
   "cell_type": "markdown",
   "source": "zip()函数用来把多个可迭代对象中对应位置上的元素压缩在一起，返回一个可迭代的zip对象，其中每个元素都是包含原来多个可迭代对象对应位置上元素的元组，最终结果中包含的元素个数取决于所有参数序列或可迭代对象中最短的那个。",
   "id": "8110c6432549c0e0"
  },
  {
   "metadata": {
    "ExecuteTime": {
     "end_time": "2025-03-02T03:58:19.150396Z",
     "start_time": "2025-03-02T03:58:19.145542Z"
    }
   },
   "cell_type": "code",
   "source": [
    "s1=[str(x)+str(y) for x, y in zip(['v']*4, range(1,5))]\n",
    "s2=list(zip('abcd', range(4)))\n",
    "print(s1); print(s2)"
   ],
   "id": "f8043bd7c8090479",
   "outputs": [
    {
     "name": "stdout",
     "output_type": "stream",
     "text": [
      "['v1', 'v2', 'v3', 'v4']\n",
      "[('a', 0), ('b', 1), ('c', 2), ('d', 3)]\n"
     ]
    }
   ],
   "execution_count": 13
  }
 ],
 "metadata": {
  "kernelspec": {
   "display_name": "Python 3",
   "language": "python",
   "name": "python3"
  },
  "language_info": {
   "codemirror_mode": {
    "name": "ipython",
    "version": 2
   },
   "file_extension": ".py",
   "mimetype": "text/x-python",
   "name": "python",
   "nbconvert_exporter": "python",
   "pygments_lexer": "ipython2",
   "version": "2.7.6"
  }
 },
 "nbformat": 4,
 "nbformat_minor": 5
}
