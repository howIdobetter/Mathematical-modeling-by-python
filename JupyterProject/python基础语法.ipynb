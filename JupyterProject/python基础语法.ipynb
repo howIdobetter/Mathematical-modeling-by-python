{
 "cells": [
  {
   "metadata": {},
   "cell_type": "markdown",
   "source": "# python基础语法之数据类型",
   "id": "51b108991989726e"
  },
  {
   "metadata": {},
   "cell_type": "markdown",
   "source": "## 1 字符串(str)",
   "id": "b59915a382199b44"
  },
  {
   "metadata": {},
   "cell_type": "markdown",
   "source": [
    "Python中的字符串用单引号（'）或双引号（\"）括起来。创建字符串只要为变量分配一个值即可，例如：\n",
    "str1 = \"Hello World!\"\n",
    "Python访问字符串，可以使用方括号（[]）来截取字符串，基本语法如下：\n",
    "变量[头下标: 尾下标]\n",
    "其中下标最小的索引值以0为开始值，-1为从末尾的开始位置。Python中的字符串有两种索引方式，从左往右以0开始，从右往左以-1开始。\n"
   ],
   "id": "fd99766e3fddbd6e"
  },
  {
   "metadata": {},
   "cell_type": "markdown",
   "source": "### 1.1 find, rfind, index, rindex, count的具体应用",
   "id": "277205e46aeb1fac"
  },
  {
   "metadata": {},
   "cell_type": "markdown",
   "source": "find()和rfind()方法分别用来查找一个字符串在另一个字符串指定的范围中首次和最后一次出现的位置，如果不存在则返回-1；index()和rindex()方法用来返回一个字符串在另一个字符串指定范围中首次和最后一次出现的位置，如果不存在则抛出异常；count()方法用来返回一个字符串在另一个字符串中出现的次数，如果不存在则返回0。\n",
   "id": "9d4f94a44c151ecc"
  },
  {
   "metadata": {
    "collapsed": true,
    "ExecuteTime": {
     "end_time": "2025-03-02T04:02:52.960760Z",
     "start_time": "2025-03-02T04:02:52.949983Z"
    }
   },
   "cell_type": "code",
   "source": [
    "str1 = 'Hello World'    #这是我们给出的一个字符串\n",
    "t1 = str1.find('l')     #2是第一次出现的位置\n",
    "t2 = str1.rfind('l')    #9是最后一次出现的位置\n",
    "t3 = str1.index('l')    #2\n",
    "t4 = str1.index('l')    #区别只有返回不同，这如果不正确就只会返回错误信息，而前面那两个只会返回-1\n",
    "t5 = str1.count('l')    #3\n",
    "print(t1, t2, t3, t4, t5)"
   ],
   "id": "initial_id",
   "outputs": [
    {
     "name": "stdout",
     "output_type": "stream",
     "text": [
      "2 9 2 2 3\n"
     ]
    }
   ],
   "execution_count": 1
  },
  {
   "metadata": {},
   "cell_type": "markdown",
   "source": "### 1.2 split, rsplit的应用",
   "id": "9ac926bf3f1486c"
  },
  {
   "metadata": {},
   "cell_type": "markdown",
   "source": [
    "字符串对象的split()和rsplit()方法分别用来以指定字符为分隔符，从字符串左端和右端开始将其分割成多个字符串，并返回包含分隔结果的列表。\n",
    "\n",
    "对于split()和rsplit()方法，如果不指定分隔符，则字符串中的任何空白字符（包括空格、换行符、制表符等）的连续出现都将被认为是分隔符，并且***自动删除字符串两侧的空白字符***，返回包含最终分隔结果的列表。"
   ],
   "id": "79586ab943fd9118"
  },
  {
   "metadata": {
    "ExecuteTime": {
     "end_time": "2025-03-02T04:02:52.997867Z",
     "start_time": "2025-03-02T04:02:52.991457Z"
    }
   },
   "cell_type": "code",
   "source": [
    "str2 = 'Oh my brother this is you'  #只是我们给出的第二个字符串\n",
    "t1 = str2.split()\n",
    "t2 = str2.rsplit()\n",
    "print(t1)\n",
    "print(t2)"
   ],
   "id": "dd5eefe7ecc53124",
   "outputs": [
    {
     "name": "stdout",
     "output_type": "stream",
     "text": [
      "['Oh', 'my', 'brother', 'this', 'is', 'you']\n",
      "['Oh', 'my', 'brother', 'this', 'is', 'you']\n"
     ]
    }
   ],
   "execution_count": 2
  },
  {
   "metadata": {},
   "cell_type": "markdown",
   "source": "### 1.3 join的应用",
   "id": "c9f894c1c2fc4b5d"
  },
  {
   "metadata": {},
   "cell_type": "markdown",
   "source": "字符串的join()方法用来将列表中多个***字符串***进行连接，并在相邻两个字符串之间插入指定字符，返回新字符串。",
   "id": "dcc448c9c1a047c9"
  },
  {
   "metadata": {
    "ExecuteTime": {
     "end_time": "2025-03-02T04:02:53.237233Z",
     "start_time": "2025-03-02T04:02:53.231280Z"
    }
   },
   "cell_type": "code",
   "source": [
    "str3 = '-'\n",
    "seq1 = ('1', '2', '3')    #元组, 注意里面是字符串\n",
    "seq2 = ['1', '2', '3']    #列表\n",
    "str3_1 = str3.join(seq1)\n",
    "str3_2 = str3.join(seq2)\n",
    "print(str3_1, str3_2)"
   ],
   "id": "967e3e24f62d2a62",
   "outputs": [
    {
     "name": "stdout",
     "output_type": "stream",
     "text": [
      "1-2-3 1-2-3\n"
     ]
    }
   ],
   "execution_count": 3
  },
  {
   "metadata": {},
   "cell_type": "markdown",
   "source": "### 1.4 strip, rstrip, lstrip的应用",
   "id": "f73d28a49dc346d9"
  },
  {
   "metadata": {},
   "cell_type": "markdown",
   "source": "这几个方法分别用来删除两端、右端或左端连续的空白字符或指定字符。",
   "id": "ec897b7b808abd69"
  },
  {
   "metadata": {
    "ExecuteTime": {
     "end_time": "2025-03-02T04:02:53.268154Z",
     "start_time": "2025-03-02T04:02:53.263726Z"
    }
   },
   "cell_type": "code",
   "source": [
    "str4 = ' my god '\n",
    "str4_1 = str4.rstrip()\n",
    "str4_2 = str4.lstrip()\n",
    "str4_3 = str4.strip()\n",
    "print(str4_1)\n",
    "print(str4_2)\n",
    "print(str4_3)   #这两个可能不太能看得出来，知道就行了"
   ],
   "id": "3b1aabc23f86cb83",
   "outputs": [
    {
     "name": "stdout",
     "output_type": "stream",
     "text": [
      " my god\n",
      "my god \n",
      "my god\n"
     ]
    }
   ],
   "execution_count": 4
  },
  {
   "metadata": {},
   "cell_type": "markdown",
   "source": "### 1.5 startswith, endswithd的应用",
   "id": "7a7a674a0f967438"
  },
  {
   "metadata": {},
   "cell_type": "markdown",
   "source": [
    "这两个方法用来判断字符串是否以指定字符串开始或结束，可以接收两个整数参数来限定字符串的检测范围。\n",
    "另外，这两个方法还可以接收一个字符串元组作为参数来表示前缀或后缀。\n"
   ],
   "id": "f426fea3a3c4d4c7"
  },
  {
   "metadata": {
    "ExecuteTime": {
     "end_time": "2025-03-02T04:02:53.312392Z",
     "start_time": "2025-03-02T04:02:53.307459Z"
    }
   },
   "cell_type": "code",
   "source": [
    "str5 = '12414235346'\n",
    "t1 = str5.startswith('12')\n",
    "t2 = str5.startswith('21')\n",
    "t3 = str5.endswith('46')\n",
    "t4 = str5.endswith('5')\n",
    "print(t1, t2, t3, t4)"
   ],
   "id": "71a755266f1fe44d",
   "outputs": [
    {
     "name": "stdout",
     "output_type": "stream",
     "text": [
      "True False True False\n"
     ]
    }
   ],
   "execution_count": 5
  },
  {
   "metadata": {},
   "cell_type": "markdown",
   "source": "### 1.6 文本示例",
   "id": "6a41b8b721b757d3"
  },
  {
   "metadata": {},
   "cell_type": "markdown",
   "source": [
    "统计下列五行字符串中字符a、c、g、t出现的频数。\n",
    "1.aggcacggaaaaacgggaataacggaggaggacttggcacggcattacacggagg\n",
    "2.cggaggacaaacgggatggcggtattggaggtggcggactgttcgggga\n",
    "3.gggacggatacggattctggccacggacggaaaggaggacacggcggacataca\n",
    "4.atggataacggaaacaaaccagacaaacttcggtagaaatacagaagctta\n",
    "5.cggctggcggacaacggactggcggattccaaaaacggaggaggcggacggaggc\n"
   ],
   "id": "2ecd682cbe2e68e4"
  },
  {
   "metadata": {
    "ExecuteTime": {
     "end_time": "2025-03-02T04:02:53.444927Z",
     "start_time": "2025-03-02T04:02:53.366606Z"
    }
   },
   "cell_type": "code",
   "source": [
    "import numpy as np\n",
    "a = []\n",
    "with open('data2_2') as f:\n",
    "    for(i, s) in enumerate(f):  #使用 enumerate(f) 遍历文件的每一行，i 是行号（从 0 开始），s 是当前行的字符串内容。\n",
    "        a.append([s.count('a'), s.count('c'),\n",
    "                  s.count('g'), s.count('t')])\n",
    "b = np.array(a)\n",
    "print(b)"
   ],
   "id": "c193c262c03d9b69",
   "outputs": [
    {
     "name": "stdout",
     "output_type": "stream",
     "text": [
      "[[19 10 21  5]\n",
      " [10  7 24  8]\n",
      " [16 12 21  5]\n",
      " [24  9 10  8]\n",
      " [14 13 24  4]]\n"
     ]
    }
   ],
   "execution_count": 6
  },
  {
   "metadata": {},
   "cell_type": "markdown",
   "source": "## 2 列表(list)",
   "id": "fbd392ebfeef158f"
  },
  {
   "metadata": {},
   "cell_type": "markdown",
   "source": [
    "list（列表）是Python中使用最频繁的数据类型。列表可以完成大多数集合类的数据结构的实现。列表中元素的类型可以不相同，它支持数字、字符串，甚至可以包含其他列表（嵌套）。\n",
    "\n",
    "列表是写在方括号（[]）里、用逗号分隔开的元素列表。和字符串一样，列表同样可以被索引和截取，列表被截取后返回一个包含所需元素的新列表。\n",
    "\n"
   ],
   "id": "cd8f03529e22ad89"
  },
  {
   "metadata": {},
   "cell_type": "markdown",
   "source": "### 2.1 截取",
   "id": "487820c0bf7917e5"
  },
  {
   "metadata": {},
   "cell_type": "markdown",
   "source": [
    "列表截取的语法格式如下：\n",
    "变量[头下标: 尾下标]\n",
    "索引值的取值和字符串类似，其中下标最小的索引值以0为开始值，以-1为从末尾的开始位置。\n",
    "与Python字符串不同的是，列表中的元素是可以改变的。"
   ],
   "id": "baef4ca4d8202407"
  },
  {
   "metadata": {
    "ExecuteTime": {
     "end_time": "2025-03-02T04:02:53.471956Z",
     "start_time": "2025-03-02T04:02:53.465553Z"
    }
   },
   "cell_type": "code",
   "source": [
    "L = ['abc', 12, 3.45, 'Python', 2.789]\n",
    "print(L)                    #输出完整列表\n",
    "print(L[0])                 #输出列表的第一个元素\n",
    "L[0] = 'a'                  #修改列表的第一个元素\n",
    "L[1:3] = ['b', 'Hello']     #修改列表的第二、三元素\n",
    "print(L)\n",
    "L[2:4] = []                 #删除列表的第三、四元素\n",
    "print(L)"
   ],
   "id": "3b0a5068a0f075d",
   "outputs": [
    {
     "name": "stdout",
     "output_type": "stream",
     "text": [
      "['abc', 12, 3.45, 'Python', 2.789]\n",
      "abc\n",
      "['a', 'b', 'Hello', 'Python', 2.789]\n",
      "['a', 'b', 2.789]\n"
     ]
    }
   ],
   "execution_count": 7
  },
  {
   "metadata": {},
   "cell_type": "markdown",
   "source": "### 2.2 列表推导式",
   "id": "bbc5b794c7cbddf5"
  },
  {
   "metadata": {},
   "cell_type": "markdown",
   "source": [
    "列表推导式可以使用非常简洁的方式对列表或其他可迭代对象的元素进行遍历、过滤或再次计算，快速生成满足特定需求的新列表。列表推导式的语法形式为：\n",
    "\n",
    "        [expression for expr1 in sequence1 if condition1\n",
    "                  for expr2 in sequence2 if condition2\n",
    "                  …\n",
    "                  for exprN in sequenceN if conditionN]\n",
    "\n",
    "列表推导式在逻辑上等价于一个循环语句，只是形式上更加简洁。\n"
   ],
   "id": "89137674a7f2f9b1"
  },
  {
   "metadata": {
    "ExecuteTime": {
     "end_time": "2025-03-02T04:02:53.497721Z",
     "start_time": "2025-03-02T04:02:53.491807Z"
    }
   },
   "cell_type": "code",
   "source": [
    "a = [[1 for x in range(10)] for y in range(10)] #定义一个10 * 10的列表\n",
    "print(a)\n",
    "h = [[1,2,3],[4,5,6],[7,8,9]]\n",
    "c = [j for i in h for j in i]                   #常用于将多维列表铺成一行\n",
    "print(c)"
   ],
   "id": "81840ba0ac7d0eec",
   "outputs": [
    {
     "name": "stdout",
     "output_type": "stream",
     "text": [
      "[[1, 1, 1, 1, 1, 1, 1, 1, 1, 1], [1, 1, 1, 1, 1, 1, 1, 1, 1, 1], [1, 1, 1, 1, 1, 1, 1, 1, 1, 1], [1, 1, 1, 1, 1, 1, 1, 1, 1, 1], [1, 1, 1, 1, 1, 1, 1, 1, 1, 1], [1, 1, 1, 1, 1, 1, 1, 1, 1, 1], [1, 1, 1, 1, 1, 1, 1, 1, 1, 1], [1, 1, 1, 1, 1, 1, 1, 1, 1, 1], [1, 1, 1, 1, 1, 1, 1, 1, 1, 1], [1, 1, 1, 1, 1, 1, 1, 1, 1, 1]]\n",
      "[1, 2, 3, 4, 5, 6, 7, 8, 9]\n"
     ]
    }
   ],
   "execution_count": 8
  },
  {
   "metadata": {},
   "cell_type": "markdown",
   "source": "#### 2.2.1 列表推导式中的if\n",
   "id": "e2f556106d1069f2"
  },
  {
   "metadata": {},
   "cell_type": "markdown",
   "source": "使用列表推导式查找数组中最大元素的所有位置。\n",
   "id": "a791dba423613b75"
  },
  {
   "metadata": {
    "ExecuteTime": {
     "end_time": "2025-03-02T04:02:53.551682Z",
     "start_time": "2025-03-02T04:02:53.528710Z"
    }
   },
   "cell_type": "code",
   "source": [
    "from numpy.random import randint\n",
    "import numpy as np\n",
    "a=randint(10,20,16)  #生成16个[10,20)上的随机整数\n",
    "ma=max(a)\n",
    "ind1=[index for index,value in enumerate(a) if value==ma]\n",
    "ind2=np.where(a==ma)  #第二种方法求最大值的地址\n",
    "print(ind1); print(ind2[0])"
   ],
   "id": "ca02e432b96ce7fb",
   "outputs": [
    {
     "name": "stdout",
     "output_type": "stream",
     "text": [
      "[0, 1, 5]\n",
      "[0 1 5]\n"
     ]
    }
   ],
   "execution_count": 9
  },
  {
   "metadata": {},
   "cell_type": "markdown",
   "source": "## 3 元组(tyrple)",
   "id": "27dd9a1db034f410"
  },
  {
   "metadata": {},
   "cell_type": "markdown",
   "source": "元组是一个不可改变的列表。不可改变意味着它***不能被修改***。元组只是逗号分隔的对象序列（不带括号的列表）。为了增加代码的可读性，通常将元组放在一对圆括号中",
   "id": "fef7da77b6de9bd4"
  },
  {
   "metadata": {
    "ExecuteTime": {
     "end_time": "2025-03-02T04:02:53.570562Z",
     "start_time": "2025-03-02T04:02:53.564763Z"
    }
   },
   "cell_type": "code",
   "source": [
    "#四种方法\n",
    "my_tuple1 = 1,2,3\n",
    "my_tuple2 = (1,2,3)\n",
    "my_tuple3 = 1,\n",
    "my_tuple4 = tuple([1,2,3])\n",
    "print(my_tuple1)\n",
    "print(my_tuple2)\n",
    "print(my_tuple3)\n",
    "print(my_tuple4)"
   ],
   "id": "db77177a8471d580",
   "outputs": [
    {
     "name": "stdout",
     "output_type": "stream",
     "text": [
      "(1, 2, 3)\n",
      "(1, 2, 3)\n",
      "(1,)\n",
      "(1, 2, 3)\n"
     ]
    }
   ],
   "execution_count": 10
  },
  {
   "metadata": {},
   "cell_type": "markdown",
   "source": "元组通过英文状态下的圆括号构成，即()。a=()表示a为空元组，b1=(9,)表示b1为只有一个元素9的元组；b2=(9)表示b2为整数9。",
   "id": "4f2b9f1a19d87077"
  },
  {
   "metadata": {
    "ExecuteTime": {
     "end_time": "2025-03-02T04:02:53.608261Z",
     "start_time": "2025-03-02T04:02:53.602701Z"
    }
   },
   "cell_type": "code",
   "source": [
    "my_tuple5 = (9, )\n",
    "my_tuple6 = (9)\n",
    "print(type(my_tuple5), type(my_tuple6))"
   ],
   "id": "95b59b8db177800",
   "outputs": [
    {
     "name": "stdout",
     "output_type": "stream",
     "text": [
      "<class 'tuple'> <class 'int'>\n"
     ]
    }
   ],
   "execution_count": 11
  },
  {
   "metadata": {},
   "cell_type": "markdown",
   "source": [
    "与列表最大的区别是，元组不再是一种可变类型的数据结构。由于元组只是存储数据的不可变容器，因此其只有两种可用的“方法”，分别是count和index，它们的功能与列表中的count和index方法完全一样。\n",
    "\n",
    "元组仍然是一种序列，所以几种获取列表元素的索引方法同样可以使用到元组对象中。"
   ],
   "id": "a4b2ef2fa96096be"
  },
  {
   "metadata": {},
   "cell_type": "markdown",
   "source": "### 3.1 其他零碎小知识",
   "id": "fef0e3120e789452"
  },
  {
   "metadata": {},
   "cell_type": "markdown",
   "source": "我们可以使用元组的小技巧为`a, b, c = 1, 2, 3`，显然等式右边是元组的定义",
   "id": "c3cc9e014735cffb"
  },
  {
   "metadata": {
    "ExecuteTime": {
     "end_time": "2025-03-02T04:02:53.658628Z",
     "start_time": "2025-03-02T04:02:53.654622Z"
    }
   },
   "cell_type": "code",
   "source": [
    "a, b, c = 1, 2, 3\n",
    "print(a, b, c)"
   ],
   "id": "f6ccdd6a4023ad8a",
   "outputs": [
    {
     "name": "stdout",
     "output_type": "stream",
     "text": [
      "1 2 3\n"
     ]
    }
   ],
   "execution_count": 12
  },
  {
   "metadata": {},
   "cell_type": "markdown",
   "source": "## 4 集合(set)",
   "id": "f443c051a8698081"
  },
  {
   "metadata": {},
   "cell_type": "markdown",
   "source": [
    "集合（set）是一个无序不重复元素的序列。基本功能是进行成员关系测试和删除重复元素。\n",
    "\n",
    "在Python中，创建集合有两种方式：一种是用一对大括号将多个用逗号分隔的数据括起来；另一类是使用set()函数，该函数可以将字符串、列表、元组等类型的数据转换成集合类型的数据。\n",
    "\n",
    "***但是我们不能像列表一样直接用{}创建一个空集合，因为会和dic冲突***"
   ],
   "id": "df8cb1115bb03320"
  },
  {
   "metadata": {},
   "cell_type": "markdown",
   "source": "### 4.1 集合的应用",
   "id": "a39eb4d47a2cbfdf"
  },
  {
   "metadata": {},
   "cell_type": "markdown",
   "source": "集合中不能有相同元素，如果在创建集合时有重复元素，Python会自动删除重复的元素。集合的这个特性非常有用，例如，要删除列表中大量重复的元素，可以先用set()函数将列表转换成集合，再用list()函数将集合转换成列表，操作效率非常高。",
   "id": "a4726d5003f50b73"
  },
  {
   "metadata": {
    "ExecuteTime": {
     "end_time": "2025-03-02T04:02:53.700788Z",
     "start_time": "2025-03-02T04:02:53.696868Z"
    }
   },
   "cell_type": "code",
   "source": [
    "a = set('abcdabc')\n",
    "print(a)  #每次输出是不一样的，如输出：{'d', 'b', 'a', 'c'}"
   ],
   "id": "faac9f697276d8a8",
   "outputs": [
    {
     "name": "stdout",
     "output_type": "stream",
     "text": [
      "{'b', 'd', 'c', 'a'}\n"
     ]
    }
   ],
   "execution_count": 13
  },
  {
   "metadata": {},
   "cell_type": "markdown",
   "source": "## 5 字典",
   "id": "9abb6c0b3c1e2ec"
  },
  {
   "metadata": {},
   "cell_type": "markdown",
   "source": [
    "字典（dictionary）是Python中另一个非常有用的内置数据类型。前面介绍的列表是有序的对象集合，字典是无序的对象集合。两者的区别在于：字典中的元素是通过键来存取的，而不是通过索引值存取的。\n",
    "\n",
    "字典是一种映射类型，字典用“{}”标识，它是一个无序的键（key）：值（value）对集合。在同一个字典中，键（key）必须是唯一的，但是值则不必唯一，值可以取任何数据类型，但***键必须是不可变的，如字符串、数字或元组。***\n"
   ],
   "id": "247aefa6bfcc261a"
  },
  {
   "metadata": {
    "ExecuteTime": {
     "end_time": "2025-03-02T04:02:53.738045Z",
     "start_time": "2025-03-02T04:02:53.733837Z"
    }
   },
   "cell_type": "code",
   "source": [
    "dict1 ={'Alice': '123', 'Beth': '456', 'Cecil': 'abc'}\n",
    "print(dict1['Alice'])   #输出123\n",
    "dict1['new'] = 'Hello'  #增加新的键值对\n",
    "dict1['Alice'] = '1234' #修改已有键值对\n",
    "dict2 = {'abc': 123, 456: 78.9}\n",
    "print(dict2[456])       #输出78.9"
   ],
   "id": "76953402b8b8e717",
   "outputs": [
    {
     "name": "stdout",
     "output_type": "stream",
     "text": [
      "123\n",
      "78.9\n"
     ]
    }
   ],
   "execution_count": 14
  },
  {
   "metadata": {},
   "cell_type": "markdown",
   "source": "### 5.1 get函数",
   "id": "3e21e8285ddd8254"
  },
  {
   "metadata": {},
   "cell_type": "markdown",
   "source": "字典对象提供了一个get()方法用来返回指定“键”对应的“值”，并且允许指定该键不存在时返回特定的“值”。\n",
   "id": "9e28e20fc9f8db30"
  },
  {
   "metadata": {
    "ExecuteTime": {
     "end_time": "2025-03-02T04:02:53.780359Z",
     "start_time": "2025-03-02T04:02:53.775548Z"
    }
   },
   "cell_type": "code",
   "source": [
    "Dict={'age':18,'score':[98,97],'name':'Zhang','sex':'male'}\n",
    "print(Dict['age'])          #输出18\n",
    "print(Dict.get('age'))      #输出18\n",
    "print(Dict.get('address','Not Exists.'))   #输出No Exists"
   ],
   "id": "695ab5cb8340e5e9",
   "outputs": [
    {
     "name": "stdout",
     "output_type": "stream",
     "text": [
      "18\n",
      "18\n",
      "Not Exists.\n"
     ]
    }
   ],
   "execution_count": 15
  },
  {
   "metadata": {},
   "cell_type": "markdown",
   "source": "### 5.2 字典的访问",
   "id": "ed72ab7328dcc405"
  },
  {
   "metadata": {},
   "cell_type": "markdown",
   "source": "我们可以用`in Dict`和`in Dict.keys()`来遍历键，用`in Dict.items()`遍历所有元素，用`in Dict.values()`来遍历所有值",
   "id": "5ece593ea9548cec"
  },
  {
   "metadata": {
    "ExecuteTime": {
     "end_time": "2025-03-02T04:02:53.833482Z",
     "start_time": "2025-03-02T04:02:53.827426Z"
    }
   },
   "cell_type": "code",
   "source": [
    "Dict={'age':18, 'score':[98,97], 'name':'Zhang', 'sex':'male'}\n",
    "for item in Dict.keys():            #遍历输出字典的“键”\n",
    "    print(item)\n",
    "print(\"----------\" )\n",
    "for item in Dict.items():           #遍历输出字典的元素，并且是元组的形式\n",
    "    print(item)\n",
    "print(\"----------\")\n",
    "for value in Dict.values():         #遍历输出字典的值\n",
    "    print(value)\n",
    "print(\"----------\")\n",
    "for item in Dict:                 #遍历输出字典的“键”\n",
    "    print(item)"
   ],
   "id": "9530347913ef24a6",
   "outputs": [
    {
     "name": "stdout",
     "output_type": "stream",
     "text": [
      "age\n",
      "score\n",
      "name\n",
      "sex\n",
      "----------\n",
      "('age', 18)\n",
      "('score', [98, 97])\n",
      "('name', 'Zhang')\n",
      "('sex', 'male')\n",
      "----------\n",
      "18\n",
      "[98, 97]\n",
      "Zhang\n",
      "male\n",
      "----------\n",
      "age\n",
      "score\n",
      "name\n",
      "sex\n"
     ]
    }
   ],
   "execution_count": 16
  },
  {
   "metadata": {},
   "cell_type": "markdown",
   "source": "### 5.3 字典应用示例",
   "id": "d0f1fa7725cc66c4"
  },
  {
   "metadata": {},
   "cell_type": "markdown",
   "source": [
    "首先生成包含1000个随机字符的字符串，然后统计每个字符的出现次数，注意get()方法的应用。\n",
    "\n",
    "基本思路：在Python标准库`string`中，`ascii_letters`表示英文大小写字符，`digits`表示10个数字字符。本例中使用字典存储每个字符的出现次数，其中键表示字符，对应的值表示出现次数。在生成随机字符串时使用了生成器表达式，`''.join(…)`的作用是使用空字符把参数中的字符串连接起来成为一个长字符串。最后使用for循环遍历该长字符串中的每个字符，把每个已出现字符的次数加1，如果是第一次出现，则已出现次数为0。"
   ],
   "id": "24a638bb4c3d869e"
  },
  {
   "metadata": {
    "ExecuteTime": {
     "end_time": "2025-03-02T04:03:28.700136Z",
     "start_time": "2025-03-02T04:03:28.694712Z"
    }
   },
   "cell_type": "code",
   "source": [
    "import string\n",
    "import random\n",
    "x = string.ascii_letters + string.digits #x合并后为包含62个字符的字符串（大小写字母 + 数字）。\n",
    "y=''.join([random.choice(x) for i in range(1000)])\n",
    "#choice()用于从多个元素中随机选择一个\n",
    "d=dict()  #构造空字典\n",
    "for ch in y:\n",
    "    d[ch]=d.get(ch,0)+1;\n",
    "for k,v in sorted(d.items()): #按AC排序输出\n",
    "    print(k,':',v)"
   ],
   "id": "27578c08b4f49f22",
   "outputs": [
    {
     "name": "stdout",
     "output_type": "stream",
     "text": [
      "0 : 16\n",
      "1 : 17\n",
      "2 : 21\n",
      "3 : 16\n",
      "4 : 17\n",
      "5 : 13\n",
      "6 : 8\n",
      "7 : 10\n",
      "8 : 11\n",
      "9 : 14\n",
      "A : 17\n",
      "B : 15\n",
      "C : 17\n",
      "D : 10\n",
      "E : 17\n",
      "F : 17\n",
      "G : 14\n",
      "H : 21\n",
      "I : 20\n",
      "J : 16\n",
      "K : 17\n",
      "L : 13\n",
      "M : 18\n",
      "N : 14\n",
      "O : 19\n",
      "P : 14\n",
      "Q : 21\n",
      "R : 6\n",
      "S : 15\n",
      "T : 13\n",
      "U : 18\n",
      "V : 18\n",
      "W : 20\n",
      "X : 14\n",
      "Y : 16\n",
      "Z : 15\n",
      "a : 14\n",
      "b : 17\n",
      "c : 19\n",
      "d : 11\n",
      "e : 18\n",
      "f : 11\n",
      "g : 22\n",
      "h : 19\n",
      "i : 28\n",
      "j : 12\n",
      "k : 16\n",
      "l : 14\n",
      "m : 13\n",
      "n : 15\n",
      "o : 20\n",
      "p : 17\n",
      "q : 20\n",
      "r : 15\n",
      "s : 15\n",
      "t : 18\n",
      "u : 17\n",
      "v : 17\n",
      "w : 16\n",
      "x : 36\n",
      "y : 14\n",
      "z : 8\n"
     ]
    }
   ],
   "execution_count": 19
  }
 ],
 "metadata": {
  "kernelspec": {
   "display_name": "Python 3",
   "language": "python",
   "name": "python3"
  },
  "language_info": {
   "codemirror_mode": {
    "name": "ipython",
    "version": 2
   },
   "file_extension": ".py",
   "mimetype": "text/x-python",
   "name": "python",
   "nbconvert_exporter": "python",
   "pygments_lexer": "ipython2",
   "version": "2.7.6"
  }
 },
 "nbformat": 4,
 "nbformat_minor": 5
}
