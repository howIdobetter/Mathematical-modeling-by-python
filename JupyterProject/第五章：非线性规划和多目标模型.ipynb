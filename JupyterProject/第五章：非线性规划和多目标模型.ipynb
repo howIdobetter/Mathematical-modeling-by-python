{
 "cells": [
  {
   "metadata": {},
   "cell_type": "markdown",
   "source": [
    "# 非线性规划和多目标模型\n",
    "在实际应用中，除了线性规划和整数线性规划之外，还大量地存在着另一类优化问题：描述目标函数或约束条件的数学表达式中，至少有一个是非线性函数，这样的优化问题通常称之为非线性规划。一般说来，解决非线性规划问题要比线性规划问题困难得多，不像线性规划有适用于一般情况的单纯形法，对于非线性规划问题到目前为止还没有一种适用于一般情况的求解方法，现有各种方法都有各自特定的适用范围。\n",
    "\n",
    "多目标决策问题是管理与日常生活中经常遇到的问题，而这些目标之间常常是相互作用和矛盾的，如何平衡这些目标，其决策过程十分复杂，决策者通常很难做出最终决策。解决这类问题的建模方法就是多目标决策方法。事实上，早在1772年，富兰克林（Franklin）就提出了多目标矛盾问题如何协调的问题。1838年，古诺（Cournot）从经济学角度提出了多目标问题的模型。1869年，帕累托（Pareto）首次从数学角度提出了多目标最优决策问题。"
   ],
   "id": "da40808e08104148"
  },
  {
   "metadata": {},
   "cell_type": "markdown",
   "source": "## 5.1 非线性规划概念和理论",
   "id": "9dfae72351b16c74"
  },
  {
   "metadata": {},
   "cell_type": "markdown",
   "source": [
    "### 5.1.1 非线性规划问题的数学模型\n",
    "记$x = [x_1, x_2, ..., x_n]^T$是$n维欧氏空间$R^n$中的一个点（$n维向量）。$f(x), g_i(x)，i = 1, 2, ..., p$和$h_j(x), j = 1, 2, ..., q是定义在R^n上的实值函数$\n",
    "\n",
    "$若f(x), g_i(x), i = 1, 2, ..., p和h_j(x), j = 1, 2, ..., q中至少有一个是x的非线性函数，称如下形式的数学模型：$\n",
    "$$\n",
    "\\min \\, f(x),\n",
    "s.t.\\begin{cases}\n",
    "g_i(x) \\leq 0, i = 1, 2, ..., p, \\\\\n",
    "h_j(x) = 0, j = 1, 2, ..., q\\\\\n",
    "\\end{cases}\\tag{(5.1)}\n",
    "$$"
   ],
   "id": "9ab55cfbec5e4c60"
  },
  {
   "metadata": {},
   "cell_type": "markdown",
   "source": [
    "### 5.1.2 无约束非线性规划的求解\n",
    "更具一般形式(5.1)，无约束非线性规划问题可具体表示为\n",
    "$$\n",
    "\\min \\, f(x)\n",
    "$$"
   ],
   "id": "57b6ff50d6b70d30"
  },
  {
   "metadata": {},
   "cell_type": "markdown",
   "source": [
    "### 5.1.3 有约束非线性规划的求解\n",
    "实际应用中，绝大多数优化问题都是有约束的。线性规划已有单纯形法这一通用解法，但非线性规划目前还没有适合于各种问题的一般算法，各个算法都有其特定的适用范围，且带有一定的局限性。\n",
    "一般来讲，对于式(5.1)或(5.2)给出的有约束非线性规划问题，求数值解时除了要使目标函数在每次迭代时有所下降，还要时刻注意解的可行性，这就给寻优工作带来很大困难。因此，比较常见的处理思路是：可能的话将非线性问题转化为线性问题，将约束问题转化为无约束问题。\n"
   ],
   "id": "cf3e306f57975735"
  },
  {
   "metadata": {},
   "cell_type": "markdown",
   "source": "### 5.1.4 凸规划",
   "id": "26e4900fa2895816"
  },
  {
   "metadata": {
    "ExecuteTime": {
     "end_time": "2025-03-14T01:34:20.812601Z",
     "start_time": "2025-03-14T01:31:53.455992Z"
    }
   },
   "cell_type": "code",
   "source": [
    "import numpy as np\n",
    "import cvxpy as cp\n",
    "\n",
    "x=cp.Variable(2,pos=True)\n",
    "obj=cp.Minimize(sum(x**2)-4*x[0]+4)\n",
    "con=[-x[0]+x[1]-2<=0,\n",
    "     x[0]**2-x[1]+1<=0]\n",
    "prob = cp.Problem(obj, con)\n",
    "prob.solve(solver='CVXOPT')\n",
    "print(\"最优值为:\",round(prob.value,4))\n",
    "print(\"最优解为：\\n\", np.round(x.value,4))"
   ],
   "id": "269b608253a3d022",
   "outputs": [
    {
     "name": "stdout",
     "output_type": "stream",
     "text": [
      "最优值为: 3.7989\n",
      "最优解为：\n",
      " [0.5536 1.3064]\n"
     ]
    }
   ],
   "execution_count": 3
  },
  {
   "metadata": {},
   "cell_type": "code",
   "outputs": [],
   "execution_count": null,
   "source": [
    "import cvxpy as cp\n",
    "import numpy as np\n",
    "c = np.arange(1, 5)\n",
    "a = np.array([[1, -1, -1, 1], [1, -1, -2, 3]])\n",
    "b = np.array([0, 1, -1 / 2])"
   ],
   "id": "a383b6c4b4b8b0ae"
  },
  {
   "metadata": {},
   "cell_type": "code",
   "outputs": [],
   "execution_count": null,
   "source": "",
   "id": "16ca954af2fa1f6c"
  }
 ],
 "metadata": {
  "kernelspec": {
   "display_name": "Python 3",
   "language": "python",
   "name": "python3"
  },
  "language_info": {
   "codemirror_mode": {
    "name": "ipython",
    "version": 2
   },
   "file_extension": ".py",
   "mimetype": "text/x-python",
   "name": "python",
   "nbconvert_exporter": "python",
   "pygments_lexer": "ipython2",
   "version": "2.7.6"
  }
 },
 "nbformat": 4,
 "nbformat_minor": 5
}
