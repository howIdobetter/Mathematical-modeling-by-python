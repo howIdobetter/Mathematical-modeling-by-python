{
 "cells": [
  {
   "metadata": {},
   "cell_type": "markdown",
   "source": "# Sympy基础用法",
   "id": "4874b79c6e25e04e"
  },
  {
   "metadata": {},
   "cell_type": "markdown",
   "source": [
    "符号运算又称计算机代数，通俗地讲就是用计算机推导数学公式，如对表达式进行因式分解、化简、微分、积分、解代数方程、求解常微分方程等。与数值运算相比，符号计算存在以下的特点：\n",
    " - 运算以推理方式进行，因此不受截断误差和累积误差问题的影响；\n",
    "- 符号计算的速度比较慢。\n",
    "\n",
    "在SymPy库中，定义符号变量或符号函数的命令如下：\n",
    "\n",
    "        import sympy as sp\n",
    "`x, y, z=sp.symbols('x, y, z')`或`x,y,z=sp.symbols('x y z')定义符号变量x, y, z`\n",
    "\n",
    "`f, g = sp.symbols('f, g', cls=sp.Function)`  #定义多个符号函数\n",
    "\n",
    "`y = sp.Function('y')`    #定义符号函数\n"
   ],
   "id": "8109125ab24b8be4"
  },
  {
   "metadata": {},
   "cell_type": "markdown",
   "source": [
    "也可以使用var函数定义符号变量或符号函数，具体格式如下：\n",
    "\n",
    "        import sympy as sp\n",
    "`sp.var('x, y, z')`\n",
    "`sp.var('a b c')` #中间分隔符更换为空格\n",
    "`sp.var('f, g', cls=sp.Function)`  #定义符号函数\n",
    "`SymPy`符号运算库能够解简单的线性方程、非线性方程及简单的代数方程组。\n",
    "\n"
   ],
   "id": "3d63b9363cef07c2"
  },
  {
   "metadata": {},
   "cell_type": "markdown",
   "source": [
    "## 1 solve函数\n",
    "在SymPy中，提供了solve函数求解符号代数方程或方程组，其调用格式如下：\n",
    "`S=solve(f, *symbols)`\n",
    "`f`为符号方程（组），`symbols`为符号变量。"
   ],
   "id": "bfa4fe5d5cfe58b9"
  },
  {
   "metadata": {},
   "cell_type": "markdown",
   "source": [
    "### 1.1 例题1\n",
    "求方程组\n",
    "$$\n",
    "\\begin{cases}\n",
    "x_1^2 + x_2^2 & = & 1\\\\\n",
    "x_1 & = & x_2\\\\\n",
    "\\end{cases}\n",
    "$$\n",
    "的符号解"
   ],
   "id": "a65bdec6ef47fda8"
  },
  {
   "metadata": {
    "ExecuteTime": {
     "end_time": "2025-03-02T04:00:40.511591Z",
     "start_time": "2025-03-02T04:00:39.893083Z"
    }
   },
   "cell_type": "code",
   "source": [
    "import sympy as sp\n",
    "sp.var('x1,x2')\n",
    "s=sp.solve([x1**2+x2**2-1,x1-x2],[x1,x2])\n",
    "print(s)"
   ],
   "id": "a5b11a056cfb3432",
   "outputs": [
    {
     "name": "stdout",
     "output_type": "stream",
     "text": [
      "[(-sqrt(2)/2, -sqrt(2)/2), (sqrt(2)/2, sqrt(2)/2)]\n"
     ]
    }
   ],
   "execution_count": 1
  },
  {
   "metadata": {
    "ExecuteTime": {
     "end_time": "2025-03-02T04:00:40.537937Z",
     "start_time": "2025-03-02T04:00:40.523538Z"
    }
   },
   "cell_type": "code",
   "source": [
    "import sympy as sp\n",
    "x = sp.var('x:2')  #定义符号数组\n",
    "s = sp.solve([x[0]**2+x[1]**2-1,x[0]-x[1]], x)\n",
    "print(s)"
   ],
   "id": "fa77defaa1febf0c",
   "outputs": [
    {
     "name": "stdout",
     "output_type": "stream",
     "text": [
      "[(-sqrt(2)/2, -sqrt(2)/2), (sqrt(2)/2, sqrt(2)/2)]\n"
     ]
    }
   ],
   "execution_count": 2
  },
  {
   "metadata": {},
   "cell_type": "markdown",
   "source": [
    "### 1.2 例题二\n",
    "求下列矩阵的特征值和特征向量的符号解\n",
    "$$\n",
    "\\begin{bmatrix}\n",
    "0 & 0 & 0 & 1\\\\\n",
    "0 & 0 & 1 & 0\\\\\n",
    "0 & 1 & 0 & 0\\\\\n",
    "1 & 0 & 0 & 0\\\\\n",
    "\\end{bmatrix}\n",
    "$$"
   ],
   "id": "c297cd14792e20c5"
  },
  {
   "metadata": {
    "ExecuteTime": {
     "end_time": "2025-03-02T04:00:40.726291Z",
     "start_time": "2025-03-02T04:00:40.718359Z"
    }
   },
   "cell_type": "code",
   "source": [
    "import sympy as sp\n",
    "a = sp.Matrix([[0,0,0,1],[0,0,1,0],\n",
    "               [0,1,0,0],[1,0,0,0]])\n",
    "print('特征值为：', a.eigenvals())\n",
    "print('特征向量为：\\n', a.eigenvects())"
   ],
   "id": "bab319e8a9a3c808",
   "outputs": [
    {
     "name": "stdout",
     "output_type": "stream",
     "text": [
      "特征值为： {-1: 2, 1: 2}\n",
      "特征向量为：\n",
      " [(-1, 2, [Matrix([\n",
      "[ 0],\n",
      "[-1],\n",
      "[ 1],\n",
      "[ 0]]), Matrix([\n",
      "[-1],\n",
      "[ 0],\n",
      "[ 0],\n",
      "[ 1]])]), (1, 2, [Matrix([\n",
      "[0],\n",
      "[1],\n",
      "[1],\n",
      "[0]]), Matrix([\n",
      "[1],\n",
      "[0],\n",
      "[0],\n",
      "[1]])])]\n"
     ]
    }
   ],
   "execution_count": 3
  }
 ],
 "metadata": {
  "kernelspec": {
   "display_name": "Python 3",
   "language": "python",
   "name": "python3"
  },
  "language_info": {
   "codemirror_mode": {
    "name": "ipython",
    "version": 2
   },
   "file_extension": ".py",
   "mimetype": "text/x-python",
   "name": "python",
   "nbconvert_exporter": "python",
   "pygments_lexer": "ipython2",
   "version": "2.7.6"
  }
 },
 "nbformat": 4,
 "nbformat_minor": 5
}
