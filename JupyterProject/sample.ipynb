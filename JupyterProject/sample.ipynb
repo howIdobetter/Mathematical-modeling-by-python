{
 "cells": [
  {
   "metadata": {},
   "cell_type": "markdown",
   "source": [
    "# This is a sample Jupyter Notebook\n",
    "\n",
    "Below is an example of a code cell. \n",
    "Put your cursor into the cell and press Shift+Enter to execute it and select the next one, or click 'Run Cell' button.\n",
    "\n",
    "Press Double Shift to search everywhere for classes, files, tool windows, actions, and settings.\n",
    "\n",
    "To learn more about Jupyter Notebooks in PyCharm, see [help](https://www.jetbrains.com/help/pycharm/ipython-notebook-support.html).\n",
    "For an overview of PyCharm, go to Help -> Learn IDE features or refer to [our documentation](https://www.jetbrains.com/help/pycharm/getting-started.html)."
   ],
   "id": "8a77807f92f26ee"
  },
  {
   "metadata": {
    "ExecuteTime": {
     "end_time": "2025-02-28T10:53:38.569702Z",
     "start_time": "2025-02-28T10:53:37.464864Z"
    }
   },
   "cell_type": "code",
   "source": [
    "import sympy as sp\n",
    "sp.var('k',positive=True, integer=True)\n",
    "a = sp.Matrix([[0, 1], [1, 1]])\n",
    "val = a.eigenvals()   #求特征值\n",
    "vec = a.eigenvects()  #求特征向量\n",
    "P, D = a.diagonalize()  #把a相似对角化\n",
    "ak = P @ (D ** k) @ (P.inv())\n",
    "F = ak @ sp.Matrix([1, 1])\n",
    "s = sp.simplify(F[0])\n",
    "print(s); sm = []\n",
    "for i in range(20):\n",
    "    sm.append(s.subs(k, i).n())\n",
    "print(sm)"
   ],
   "id": "fbc121e30a2defb3",
   "outputs": [
    {
     "name": "stdout",
     "output_type": "stream",
     "text": [
      "(2*(1 - sqrt(5))**k + sqrt(5)*(1 + sqrt(5))**k + 3*(1 + sqrt(5))**k)/(2**k*(sqrt(5) + 5))\n",
      "[1.00000000000000, 1.00000000000000, 2.00000000000000, 3.00000000000000, 5.00000000000000, 8.00000000000000, 13.0000000000000, 21.0000000000000, 34.0000000000000, 55.0000000000000, 89.0000000000000, 144.000000000000, 233.000000000000, 377.000000000000, 610.000000000000, 987.000000000000, 1597.00000000000, 2584.00000000000, 4181.00000000000, 6765.00000000000]\n"
     ]
    }
   ],
   "execution_count": 1
  },
  {
   "metadata": {
    "ExecuteTime": {
     "end_time": "2025-02-28T11:17:14.448921Z",
     "start_time": "2025-02-28T11:17:14.442897Z"
    }
   },
   "cell_type": "code",
   "source": [
    "str1 = '3532314'\n",
    "str1.startswith('4')"
   ],
   "id": "1859b2ff26398fb9",
   "outputs": [
    {
     "data": {
      "text/plain": [
       "False"
      ]
     },
     "execution_count": 7,
     "metadata": {},
     "output_type": "execute_result"
    }
   ],
   "execution_count": 7
  },
  {
   "metadata": {
    "ExecuteTime": {
     "end_time": "2025-02-28T11:31:34.195173Z",
     "start_time": "2025-02-28T11:31:34.189451Z"
    }
   },
   "cell_type": "code",
   "source": [
    "import numpy as np\n",
    "a = []\n",
    "with open('data2_2') as f:\n",
    "    for(i, s) in enumerate(f):\n",
    "        a.append([s.count('a'), s.count('c'),\n",
    "                  s.count('g'), s.count('t')])\n",
    "b = np.array(a)\n",
    "print(b)"
   ],
   "id": "4108f49641d432c0",
   "outputs": [
    {
     "name": "stdout",
     "output_type": "stream",
     "text": [
      "[[19 10 21  5]\n",
      " [10  7 24  8]\n",
      " [16 12 21  5]\n",
      " [24  9 10  8]\n",
      " [14 13 24  4]]\n"
     ]
    }
   ],
   "execution_count": 16
  },
  {
   "metadata": {},
   "cell_type": "markdown",
   "source": [
    "Heading level 1\n",
    "==============="
   ],
   "id": "28edb7eb05dc017e"
  },
  {
   "metadata": {},
   "cell_type": "code",
   "outputs": [],
   "execution_count": null,
   "source": "",
   "id": "1ad3d135c28cda6a"
  }
 ],
 "metadata": {
  "kernelspec": {
   "display_name": "Python 3",
   "language": "python",
   "name": "python3"
  },
  "language_info": {
   "codemirror_mode": {
    "name": "ipython",
    "version": 2
   },
   "file_extension": ".py",
   "mimetype": "text/x-python",
   "name": "python",
   "nbconvert_exporter": "python",
   "pygments_lexer": "ipython2",
   "version": "2.7.6"
  }
 },
 "nbformat": 4,
 "nbformat_minor": 5
}
