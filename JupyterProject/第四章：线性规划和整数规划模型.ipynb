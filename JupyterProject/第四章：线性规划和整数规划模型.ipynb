{
 "cells": [
  {
   "metadata": {},
   "cell_type": "markdown",
   "source": [
    "# 线性规划和整数规划模型\n",
    " 在工程技术、经济管理、科学研究、军事作战训练及日常生产生活等众多领域中，人们常常会遇到各种优化问题。例如，在生产经营中，我们总是希望制订最优的生产计划，充分利用已有的人力、物力资源，获得最大的经济效益；在运输问题中，我们总是希望设计最优的运输方案，在完成运输任务的前提下，力求运输成本最小等。针对优化问题的数学建模问题也是数学建模竞赛中一类比较常见的问题，这样的问题常常可以使用数学规划模型进行研究。\n",
    "\n",
    "数学规划是运筹学的一个重要分支，而线性规划又是数学规划中的一部分主要内容。很多实际问题都可以归结为“线性规划”问题。线性规划（Linear Programming，简记为LP）有比较完善的理论基础和有效的求解方法，在实际问题中有极其广泛的应用。特别是随着计算机技术的飞速发展，线性规划的应用在深度和广度上有了极大的提高。"
   ],
   "id": "8e5e535a868a5d62"
  },
  {
   "metadata": {},
   "cell_type": "markdown",
   "source": "## 4.1 线性规划模型",
   "id": "6cfca5f42d6a2f15"
  },
  {
   "metadata": {},
   "cell_type": "markdown",
   "source": "### 4.1.1 线性规划模型及概念",
   "id": "c13fd89cae661849"
  },
  {
   "metadata": {},
   "cell_type": "markdown",
   "source": [
    "#### 1.引例\n",
    "某企业利用两种原材料A和B生产三种产品$P_1,P_2和P_3 。$已知每生产1公斤的产品所消耗的原材料A、B的数量（单位：公斤）和花费的加工时间C（单位：小时），每公斤产品销售后所带来的利润（单位：元）以及每天可用的资源的数量如表4.1所示，则该企业应该如何制订每天的生产计划，才能使所获利润达到最大？\n",
    "\n",
    "问题分析： 该问题是在企业的生产经营中经常面临的一个问题：如何制订一个最优的生产计划？因为原材料和加工时间的可用数量是有限的，这也就构成了该问题的约束条件，而解决该问题也就是在满足上述约束条件的前提下，确定三种产品的产量，使得产品销售后所获得的利润达到最大值。\n",
    "\n",
    "模型假设： 假设该企业的产品不存在积压，即产量等于销量。\n",
    "\n",
    "符号说明： $设x_i表示产品P_i每天的产量,i = 1, 2, 3。通常称 为决策变量。$"
   ],
   "id": "9466a59705122ec4"
  },
  {
   "metadata": {},
   "cell_type": "markdown",
   "source": [
    "#### 例4.1\n",
    "**目标函数：**\n",
    "$$\n",
    "\\max \\ z = 70x_1 + 50x_2 + 60x_3\n",
    "$$\n",
    "**约束条件：**\n",
    "$$\n",
    "\\begin{cases}\n",
    "2x_1 + 4x_2 + 3x_3 \\leq 150, \\\\\n",
    "3x_1 + x_2 + 5x_3 \\leq 160, \\\\\n",
    "7x_1 + 3x_2 + 5x_3 \\leq 200, \\\\\n",
    "x_i \\geq 0, \\quad i = 1, 2, 3.\n",
    "\\end{cases}\n",
    "$$"
   ],
   "id": "e083718df8bacbce"
  },
  {
   "metadata": {
    "ExecuteTime": {
     "end_time": "2025-03-09T02:27:45.802621Z",
     "start_time": "2025-03-09T02:27:42.021733Z"
    }
   },
   "cell_type": "code",
   "source": [
    "import cvxpy as cp\n",
    "import numpy as np\n",
    "c = np.array([70, 50, 60])\n",
    "a = np.array([[2, 4, 3],\n",
    "              [3, 1, 5],\n",
    "              [7, 3, 5]])\n",
    "b = np.array([150, 160, 200])\n",
    "x = cp.Variable(3, pos = True)\n",
    "ojb = cp.Maximize(c @ x)\n",
    "cons = [a @ x <= b]\n",
    "prob = cp.Problem(ojb, cons)\n",
    "prob.solve()\n",
    "print('最优解为：', x.value)\n",
    "print('最优值为：', prob.value)"
   ],
   "id": "4e7b2c2b212980cb",
   "outputs": [
    {
     "name": "stdout",
     "output_type": "stream",
     "text": [
      "最优解为： [ 8.35184614 21.98820975 15.11448955]\n",
      "最优值为： 2590.909090524814\n"
     ]
    }
   ],
   "execution_count": 1
  },
  {
   "metadata": {},
   "cell_type": "markdown",
   "source": [
    "#### 例题4.2\n",
    "求解如下线性规划模型：\n",
    "$\\max z = 1.15x_{41} + 1.40x_{23} + 1.25x{32} + 1.06x_{54}$\n",
    "$$\n",
    "\\begin{cases}\n",
    "x_{11} + x_{14}  =  100000,\\\\\n",
    "x_{21} + x_{23} + x_{24}  =  1.06x_{14},\\\\\n",
    "x_{31} + x_{32} + x_{34}  =  1.15x_{11} + 1.06x_{24},\\\\\n",
    "x_{41} + x_{44} = 1.15x_{21} + 1.06x_{34},\\\\\n",
    "x_{54}  = 1.15x_{31} + 1.06x_{44},\\\\\n",
    "x_{32} \\leq 40000, x_{23} \\leq 30000,\\\\\n",
    "x_{ij} \\geq 0, i = 1, 2, 3, 4, 5;j = 1, 2, 3, 4.\\\\\n",
    "\\end{cases}\n",
    "$$"
   ],
   "id": "5d08fdf39081d5e2"
  },
  {
   "metadata": {
    "ExecuteTime": {
     "end_time": "2025-03-09T02:56:41.763100Z",
     "start_time": "2025-03-09T02:56:40.765713Z"
    }
   },
   "cell_type": "code",
   "source": [
    "import cvxpy as cp\n",
    "x = cp.Variable((5, 4), pos = True)\n",
    "obj = cp.Maximize(1.15 * x[3, 0] + 1.40 * x[1, 2] + 1.25 * x[2, 1] + 1.06 * x[4, 3])\n",
    "cons = [x[0, 0] + x[0, 3] == 100000,\n",
    "        x[1, 0] + x[1, 2] + x[1, 3] == 1.06 * x[0, 3],\n",
    "        x[2, 0] + x[2, 1] + x[2, 3] == 1.15 * x[0, 0] + 1.06 * x[1, 3],\n",
    "        x[3, 0] + x[3, 3] == 1.15 * x[1, 0] + 1.06 * x[2, 3],\n",
    "        x[4, 3] == 1.15 * x[2, 0] + 1.06 * x[3, 3],\n",
    "        x[2, 1] <= 40000,\n",
    "        x[1, 2] <= 30000]\n",
    "prob = cp.Problem(obj, cons)\n",
    "prob.solve(solver = 'GLPK_MI')\n",
    "print('最优值为：', prob.value)\n",
    "print('最优解为：', x.value)"
   ],
   "id": "3c6054cd2cae8620",
   "outputs": [
    {
     "name": "stdout",
     "output_type": "stream",
     "text": [
      "最优值为： 143750.0\n",
      "最优解为： [[34782.60869565     0.             0.         65217.39130435]\n",
      " [39130.43478261     0.         30000.             0.        ]\n",
      " [    0.         40000.             0.             0.        ]\n",
      " [45000.             0.             0.             0.        ]\n",
      " [    0.             0.             0.             0.        ]]\n"
     ]
    }
   ],
   "execution_count": 1
  },
  {
   "metadata": {},
   "cell_type": "markdown",
   "source": [
    "#### 例题4.3\n",
    "使用Python软件计算6个产地8个销地的最小费用运输问题\n",
    "\n",
    "| 单位运价,产地,销地\t | B1\t | B2\t            | B3\t          | B4\t        | B5\t      | B6\t    | B7\t  | B8 |\t产量|\n",
    "|-------------|-----|----------------|--------------|------------|----------|--------|------|----|---|\n",
    " | A1\t         | 6\t  | 2\t  | 6\t  | 7\t  | 4\t  | 2\t  | 5\t  | 9\t  | 60  |\n",
    " | A2\t         | 4\t  | 9\t  | 5\t  | 3\t  | 8\t  | 5\t  | 8\t  | 2\t  | 55  |\n",
    " | A3\t         | 5\t  | 2\t  | 1\t  | 9\t  | 7\t  | 4\t  | 3\t  | 3\t  | 51               |\n",
    " | A4\t         | 7\t  | 6\t| 7\t| 3\t| 9\t| 2\t| 7\t| 1\t | 43  |\n",
    " | A5\t         | 2\t  | 3\t             | 9\t           | 5\t         | 7\t       | 2\t     | 6\t   | 5\t | 41               |\n",
    " | A6\t         | 5\t  | 5\t             | 2\t           | 2\t         | 8\t       | 1\t     | 4\t   | 3\t | 52  |\n",
    "| 销量\t         | 35\t | 37\t            | 22\t          | 32\t        | 41\t      | 32\t    | 43\t  | 38 |\n",
    "\n"
   ],
   "id": "9cd9cb7bb30889fc"
  },
  {
   "metadata": {
    "ExecuteTime": {
     "end_time": "2025-03-09T03:17:31.365732Z",
     "start_time": "2025-03-09T03:17:31.333730Z"
    }
   },
   "cell_type": "code",
   "source": [
    "import numpy as np\n",
    "import cvxpy as cp\n",
    "import pandas as pd\n",
    "c=np.genfromtxt(\"data4_5_1.txt\", dtype=float, max_rows=6, usecols=range(8)) #读前6行前8列数据\n",
    "e=np.genfromtxt(\"data4_5_1.txt\", dtype=float, max_rows=6, usecols=8) #读最后一列数据\n",
    "d=np.genfromtxt(\"data4_5_1.txt\", dtype=float, skip_header=6) #读最后一行数据\n",
    "x=cp.Variable((6,8), pos=True)\n",
    "obj=cp.Minimize(cp.sum(cp.multiply(c, x)))\n",
    "con= [cp.sum(x, axis=0)==d,\n",
    "      cp.sum(x, axis=1)<=e]\n",
    "prob = cp.Problem(obj, con)\n",
    "prob.solve(solver='GLPK_MI')\n",
    "print(\"最优值为:\", prob.value)\n",
    "print(\"最优解为：\\n\", x.value)\n",
    "xd=pd.DataFrame(x.value)\n",
    "xd.to_excel(\"data4_5_2.xlsx\")  #数据写到Excel文件，便于做表使用\n"
   ],
   "id": "939385882d1052c1",
   "outputs": [
    {
     "name": "stdout",
     "output_type": "stream",
     "text": [
      "最优值为: 664.0\n",
      "最优解为：\n",
      " [[ 0. 19.  0.  0. 41.  0.  0.  0.]\n",
      " [ 0.  0.  0. 32.  0.  0.  0.  1.]\n",
      " [ 0. 12. 22.  0.  0.  0. 17.  0.]\n",
      " [ 0.  0.  0.  0.  0.  6.  0. 37.]\n",
      " [35.  6.  0.  0.  0.  0.  0.  0.]\n",
      " [ 0.  0.  0.  0.  0. 26. 26.  0.]]\n"
     ]
    }
   ],
   "execution_count": 6
  },
  {
   "metadata": {},
   "cell_type": "markdown",
   "source": [
    "genfromtxt用法\n",
    "\n",
    "        import numpy as np\n",
    "        data = np.genfromtxt('filename.txt', delimiter=',')\n",
    "\n",
    "- fname: 文件名或文件路径。可以是字符串、文件对象或生成器。\n",
    "- delimiter: 用于分隔值的字符或字符串。默认是任何空白字符。\n",
    "- dtype: 输出数组的数据类型。默认是 float。\n",
    "- skip_header: 跳过文件开头的行数。\n",
    "- skip_footer: 跳过文件末尾的行数。\n",
    "- usecols: 指定要读取的列索引或列名。\n",
    "- missing_values: 指定表示缺失值的字符串或字符串列表。\n",
    "- filling_values: 指定用于替换缺失值的值。\n",
    "- comments: 指定注释字符，默认是 #。\n",
    "- autostrip: 是否自动去除字符串中的空白字符，默认是 False。"
   ],
   "id": "498a569c0166e797"
  },
  {
   "metadata": {
    "ExecuteTime": {
     "end_time": "2025-03-09T03:23:48.057751Z",
     "start_time": "2025-03-09T03:23:48.008070Z"
    }
   },
   "cell_type": "code",
   "source": [
    "import numpy as np\n",
    "import pandas as pd\n",
    "data = pd.read_excel('data4_5_3.xlsx', header = None)\n",
    "data = data.values\n",
    "c = data[: -1, : -1]\n",
    "d = data[-1, : -1]\n",
    "e = data[:-1, -1]\n",
    "x = cp.Variable((6,8), pos=True)\n",
    "obj = cp.Minimize(cp.sum(cp.multiply(c, x)))\n",
    "cons = [\n",
    "    cp.sum(x, axis = 0) == d,\n",
    "    cp.sum(x, axis = 1) <= e\n",
    "]\n",
    "prob = cp.Problem(obj, cons)\n",
    "prob.solve(solver='GLPK_MI')\n",
    "print(\"最优值为:\", prob.value)\n",
    "print(\"最优解为：\\n\", x.value)\n",
    "xd=pd.DataFrame(x.value)\n",
    "xd.to_excel(\"data4_5_4.xlsx\")  #数据写到Excel文件，便于做表使用"
   ],
   "id": "d0e2b4bab906f677",
   "outputs": [
    {
     "name": "stdout",
     "output_type": "stream",
     "text": [
      "最优值为: 664.0\n",
      "最优解为：\n",
      " [[ 0. 19.  0.  0. 41.  0.  0.  0.]\n",
      " [ 0.  0.  0. 32.  0.  0.  0.  1.]\n",
      " [ 0. 12. 22.  0.  0.  0. 17.  0.]\n",
      " [ 0.  0.  0.  0.  0.  6.  0. 37.]\n",
      " [35.  6.  0.  0.  0.  0.  0.  0.]\n",
      " [ 0.  0.  0.  0.  0. 26. 26.  0.]]\n"
     ]
    }
   ],
   "execution_count": 8
  }
 ],
 "metadata": {
  "kernelspec": {
   "display_name": "Python 3",
   "language": "python",
   "name": "python3"
  },
  "language_info": {
   "codemirror_mode": {
    "name": "ipython",
    "version": 2
   },
   "file_extension": ".py",
   "mimetype": "text/x-python",
   "name": "python",
   "nbconvert_exporter": "python",
   "pygments_lexer": "ipython2",
   "version": "2.7.6"
  }
 },
 "nbformat": 4,
 "nbformat_minor": 5
}
